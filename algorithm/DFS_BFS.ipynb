{
 "cells": [
  {
   "cell_type": "markdown",
   "metadata": {},
   "source": [
    "## stack 은 별도의 라이브러리가 필요 없음\n",
    "## queue는 from collection import deque 사용"
   ]
  },
  {
   "cell_type": "code",
   "execution_count": 1,
   "metadata": {},
   "outputs": [
    {
     "name": "stdout",
     "output_type": "stream",
     "text": [
      "3628800\n"
     ]
    }
   ],
   "source": [
    "## 팩토리얼 예제\n",
    "\n",
    "def factorial(n):\n",
    "    if n <= 1:\n",
    "        return 1\n",
    "    return n * factorial(n-1)\n",
    "\n",
    "print(factorial(10))"
   ]
  },
  {
   "cell_type": "code",
   "execution_count": 2,
   "metadata": {},
   "outputs": [
    {
     "name": "stdout",
     "output_type": "stream",
     "text": [
      "[[0, 7, 5], [7, 0, 9999], [5, 9999, 0]]\n"
     ]
    }
   ],
   "source": [
    "## 인접 행렬 방식 예제\n",
    "\n",
    "INF = 9999\n",
    "\n",
    "graph = [\n",
    "    [0, 7, 5],\n",
    "    [7, 0, INF],\n",
    "    [5, INF, 0]\n",
    "]\n",
    "\n",
    "print(graph)"
   ]
  },
  {
   "cell_type": "markdown",
   "metadata": {},
   "source": [
    "## DFS 예제"
   ]
  },
  {
   "cell_type": "code",
   "execution_count": 4,
   "metadata": {},
   "outputs": [
    {
     "name": "stdout",
     "output_type": "stream",
     "text": [
      "1 2 7 6 8 3 4 5 "
     ]
    }
   ],
   "source": [
    "def dfs(graph, v, visited):\n",
    "    visited[v] = True\n",
    "    print(v, end=' ')\n",
    "    for i in graph[v]:\n",
    "        if not visited[i]:\n",
    "            dfs(graph, i, visited)\n",
    "            \n",
    "graph = [\n",
    "    [],\n",
    "    [2,3,8],\n",
    "    [1,7],\n",
    "    [1,4,5],\n",
    "    [3,5],\n",
    "    [3,4],\n",
    "    [7],\n",
    "    [2,6,8],\n",
    "    [1,7]\n",
    "]\n",
    "\n",
    "visited = [False] * 9\n",
    "\n",
    "dfs(graph,1,visited)"
   ]
  },
  {
   "cell_type": "markdown",
   "metadata": {},
   "source": [
    "## BFS 구현"
   ]
  },
  {
   "cell_type": "code",
   "execution_count": 5,
   "metadata": {},
   "outputs": [
    {
     "name": "stdout",
     "output_type": "stream",
     "text": [
      "1 2 3 8 7 4 5 6 "
     ]
    }
   ],
   "source": [
    "from collections import deque\n",
    "\n",
    "def bfs(graph, start, visited):\n",
    "    queue = deque([start])\n",
    "    visited[start] = True\n",
    "    \n",
    "    while queue:\n",
    "        v = queue.popleft()\n",
    "        print(v, end=' ')\n",
    "        \n",
    "        for i in graph[v]:\n",
    "            if not visited[i]:\n",
    "                queue.append(i)\n",
    "                visited[i] = True\n",
    "\n",
    "graph = [\n",
    "    [],\n",
    "    [2,3,8],\n",
    "    [1,7],\n",
    "    [1,4,5],\n",
    "    [3,5],\n",
    "    [3,4],\n",
    "    [7],\n",
    "    [2,6,8],\n",
    "    [1,7]\n",
    "]\n",
    "\n",
    "visited = [False] * 9\n",
    "\n",
    "bfs(graph, 1, visited)\n",
    "    "
   ]
  },
  {
   "cell_type": "markdown",
   "metadata": {},
   "source": [
    "## 음료수 얼려먹기"
   ]
  },
  {
   "cell_type": "code",
   "execution_count": 6,
   "metadata": {},
   "outputs": [
    {
     "ename": "ValueError",
     "evalue": "not enough values to unpack (expected 2, got 0)",
     "output_type": "error",
     "traceback": [
      "\u001b[1;31m---------------------------------------------------------------------------\u001b[0m",
      "\u001b[1;31mValueError\u001b[0m                                Traceback (most recent call last)",
      "Cell \u001b[1;32mIn[6], line 1\u001b[0m\n\u001b[1;32m----> 1\u001b[0m n, m \u001b[39m=\u001b[39m \u001b[39mmap\u001b[39m(\u001b[39mint\u001b[39m, \u001b[39minput\u001b[39m()\u001b[39m.\u001b[39msplit())\n\u001b[0;32m      2\u001b[0m graph \u001b[39m=\u001b[39m []\n\u001b[0;32m      3\u001b[0m \u001b[39mfor\u001b[39;00m _ \u001b[39min\u001b[39;00m \u001b[39mrange\u001b[39m(n):\n",
      "\u001b[1;31mValueError\u001b[0m: not enough values to unpack (expected 2, got 0)"
     ]
    }
   ],
   "source": [
    "n, m = map(int, input().split())\n",
    "graph = []\n",
    "for _ in range(n):\n",
    "    graph.append(list(map(int, input().split())))\n",
    "\n",
    "\n",
    "def dfs(x,y):\n",
    "    if x <=-1 or x >= n or y<=-1 or y >= m:\n",
    "        return False\n",
    "    if graph[x][y] == 0:\n",
    "        graph[x][y] == 1\n",
    "        \n",
    "        dfs(x-1,y)\n",
    "        dfs(x+1,y)\n",
    "        dfs(x,y-1)\n",
    "        dfs(x,y+1)\n",
    "        return True\n",
    "\n",
    "result = 0\n",
    "for i in range(n):\n",
    "    for j in range(m):\n",
    "        if dfs(i,j) == True:\n",
    "            result += 1   \n",
    "    "
   ]
  },
  {
   "cell_type": "code",
   "execution_count": null,
   "metadata": {},
   "outputs": [],
   "source": [
    "from collection import deque\n",
    "\n",
    "n, m = map(int, input().split())\n",
    "graph = []\n",
    "for _ in range(n):\n",
    "    graph.append(list(map(int, input().split())))\n",
    "\n",
    "\n",
    "dx = [0,0,1,-1]\n",
    "dy = [1,-1,0,0]\n",
    "\n",
    "def bfs(x,y):\n",
    "    queue = deque()\n",
    "    queue.append(x,y)\n",
    "    \n",
    "    while queue:\n",
    "        x,y = queue.popleft()\n",
    "        \n",
    "        for i in range(4):\n",
    "            nx = x + dx[i]\n",
    "            ny = y + dy[i]\n",
    "            if nx < 0 or nx >= n or ny < 0 or ny >= m:\n",
    "                continue\n",
    "            if graph[nx][ny] == 0:\n",
    "                continue\n",
    "            \n",
    "            if graph[nx][ny] == 1:\n",
    "                graph[nx][ny] = graph[x][y] + 1\n",
    "                queue.append((nx,ny))\n",
    "    \n",
    "    return graph[n-1][m-1]\n",
    "                \n",
    "                \n",
    "\n",
    "                \n",
    "        \n",
    "        "
   ]
  },
  {
   "cell_type": "code",
   "execution_count": null,
   "metadata": {},
   "outputs": [],
   "source": [
    "  [0, 0, 0, 0, 0, 0, 0, 0, 0, 0]\n",
    "  [0, 1, 1, 1, 1, 0, 0, 0, 0, 0], \n",
    "  [0, 1, -1, -1, 1, 0, 1, 1, 1, 0], \n",
    "  [0, 1, -1, -1, 1, 1, 1, -1, 1, 0], \n",
    "  [0, 1, -1, -1, 1, 1, 1, 1, 1, 1], \n",
    "  [0, 1, -1, -1, 1, 1, -1, -1, -1, 1], \n",
    "  [0, 1, -1, -1, 1, 1, 1, 1, 1, 1], \n",
    "  [0, 1, 1, 1, 1, 0, 1, -1, 1, 0], \n",
    "  [0, 0, 0, 0, 0, 0, 1, 1, 1, 0]"
   ]
  },
  {
   "cell_type": "code",
   "execution_count": 1,
   "metadata": {},
   "outputs": [
    {
     "name": "stdout",
     "output_type": "stream",
     "text": [
      "[1, 2, 3, 4]\n"
     ]
    }
   ],
   "source": [
    "def solution(donations):\n",
    "    total_donations = len(donations)\n",
    "    spy_unpaid_rounds = []  # 스파이가 미납해야 할 회차들을 저장할 리스트\n",
    "\n",
    "    for round_num, round_donations in enumerate(donations):\n",
    "        sum_without_spy = sum(round_donations) - round_donations[0]\n",
    "        \n",
    "        if round_donations[0] != sum_without_spy:\n",
    "            spy_unpaid_rounds.append(round_num + 1)\n",
    "\n",
    "    return spy_unpaid_rounds\n",
    "\n",
    "# 입력 예시\n",
    "donations = [\n",
    "    [1, 4, 2],\n",
    "    [2, 2, 3],\n",
    "    [4, 1, 4],\n",
    "    [3, 3, 4]\n",
    "]\n",
    "\n",
    "print(solution(donations))  # 출력 예시: [2, 4]\n"
   ]
  },
  {
   "cell_type": "code",
   "execution_count": 6,
   "metadata": {},
   "outputs": [
    {
     "name": "stdout",
     "output_type": "stream",
     "text": [
      "119\n"
     ]
    }
   ],
   "source": [
    "def solution(donations):\n",
    "    total_rounds = len(donations)\n",
    "    \n",
    "    # Initialize a 2D DP array with dimensions (total_rounds + 1) x 2\n",
    "    # DP[i][0]: Maximum unpaid amount if the spy doesn't pay for round i\n",
    "    # DP[i][1]: Maximum unpaid amount if the spy pays for round i\n",
    "    DP = [[0, 0] for _ in range(total_rounds + 1)]\n",
    "\n",
    "    for round_num in range(1, total_rounds + 1):\n",
    "        # If the spy doesn't pay for this round, we take the maximum of the previous rounds\n",
    "        DP[round_num][0] = max(DP[round_num - 1][0], DP[round_num - 1][1])\n",
    "        \n",
    "        # If the spy pays for this round, we consider the maximum unpaid amount for the previous round\n",
    "        # and add the spy's donation for this round\n",
    "        DP[round_num][1] = DP[round_num - 1][0] + donations[round_num - 1][0]\n",
    "\n",
    "    # The answer is the maximum between the last round (spy doesn't pay) and the second-last round (spy pays)\n",
    "    return max(DP[total_rounds][0], DP[total_rounds - 1][1])\n",
    "\n",
    "# 입력 예시\n",
    "donations = [\n",
    "    [99, 1, 99],\n",
    "    [10,10,10],\n",
    "    [20,20,20],\n",
    "    [30,30,30]\n",
    "]\n",
    "\n",
    "\n",
    "print(solution(donations))  # 출력 예시: 5\n",
    "\n"
   ]
  },
  {
   "cell_type": "code",
   "execution_count": 3,
   "metadata": {},
   "outputs": [
    {
     "name": "stdout",
     "output_type": "stream",
     "text": [
      "0\n"
     ]
    }
   ],
   "source": [
    "from collections import deque\n",
    "\n",
    "def solution(donations):\n",
    "    total_rounds = len(donations)\n",
    "\n",
    "    def is_valid_state(round_num, total_donations):\n",
    "        # Check if the current state is valid (not revealing the spy)\n",
    "        return sum(total_donations) - total_donations[0] == donations[round_num][0]\n",
    "\n",
    "    max_unpaid_amount = 0\n",
    "    queue = deque([(0, donations[0])])  # (round_num, total_donations) pair\n",
    "\n",
    "    while queue:\n",
    "        round_num, total_donations = queue.popleft()\n",
    "\n",
    "        if round_num == total_rounds - 1:\n",
    "            max_unpaid_amount = max(max_unpaid_amount, sum(total_donations) - total_donations[0])\n",
    "            continue\n",
    "\n",
    "        next_round_num = round_num + 1\n",
    "\n",
    "        # If the spy pays for the next round, we add the next round donations to the total\n",
    "        if is_valid_state(next_round_num, total_donations + donations[next_round_num]):\n",
    "            queue.append((next_round_num, total_donations + donations[next_round_num]))\n",
    "\n",
    "        # If the spy doesn't pay for the next round, we keep the total the same\n",
    "        if is_valid_state(next_round_num, total_donations):\n",
    "            queue.append((next_round_num, total_donations))\n",
    "\n",
    "    return max_unpaid_amount\n",
    "\n",
    "# 입력 예시\n",
    "donations = [\n",
    "    [1, 4, 2],\n",
    "    [2, 2, 3],\n",
    "    [4, 1, 4],\n",
    "    [3, 3, 4]\n",
    "]\n",
    "\n",
    "print(solution(donations))  # 출력 예시: 5\n"
   ]
  },
  {
   "cell_type": "code",
   "execution_count": 12,
   "metadata": {},
   "outputs": [
    {
     "name": "stdout",
     "output_type": "stream",
     "text": [
      "11\n"
     ]
    }
   ],
   "source": [
    "def solution(donations):\n",
    "    total_rounds = len(donations)\n",
    "    spy_donations = [donations[i][0] for i in range(total_rounds)]\n",
    "    left = 0\n",
    "    right = sum(spy_donations)\n",
    "\n",
    "    while left <= right:\n",
    "        mid = (left + right) // 2\n",
    "\n",
    "        if can_reveal_spy(donations, mid):\n",
    "            right = mid - 1\n",
    "        else:\n",
    "            left = mid + 1\n",
    "\n",
    "    return left\n",
    "\n",
    "def can_reveal_spy(donations, target_amount):\n",
    "    total_rounds = len(donations)\n",
    "    total_donations = [0] * total_rounds\n",
    "\n",
    "    for round_num in range(total_rounds):\n",
    "        total_donations[round_num] = donations[round_num][0]\n",
    "\n",
    "    for round_num in range(total_rounds):\n",
    "        if total_donations[round_num] < target_amount:\n",
    "            return False\n",
    "\n",
    "        for i in range(1, len(donations[round_num])):\n",
    "            if total_donations[round_num] >= target_amount:\n",
    "                break\n",
    "            if donations[round_num][i] <= target_amount:\n",
    "                total_donations[round_num] += donations[round_num][i]\n",
    "\n",
    "    return True\n",
    "\n",
    "# 입력 예시\n",
    "donation_result1 = [[1, 4, 2], [2, 2, 3], [4, 1, 4], [3, 3, 4]]\n",
    "donation_result2 = [[[99, 1, 99], [10, 10, 10], [20, 20, 20], [30, 30, 30]]]\n",
    "donation_result3 = [[1, 2, 4, 8, 16]]\n",
    "\n",
    "print(solution(donation_result1))  # 출력 예시: 5\n"
   ]
  },
  {
   "cell_type": "code",
   "execution_count": 11,
   "metadata": {},
   "outputs": [
    {
     "name": "stdout",
     "output_type": "stream",
     "text": [
      "[1, 2, 3, 4]\n"
     ]
    }
   ],
   "source": [
    "def solution(donations):\n",
    "    total_donations = len(donations)\n",
    "    spy_unpaid_rounds = []  # 스파이가 미납해야 할 회차들을 저장할 리스트\n",
    "\n",
    "    for round_num, round_donations in enumerate(donations):\n",
    "        sum_without_spy = sum(round_donations) - round_donations[0]\n",
    "        \n",
    "        if round_donations[0] != sum_without_spy:\n",
    "            spy_unpaid_rounds.append(round_num + 1)\n",
    "\n",
    "    return spy_unpaid_rounds\n",
    "\n",
    "# 입력 예시\n",
    "donation_result1 = [[1, 4, 2], [2, 2, 3], [4, 1, 4], [3, 3, 4]]\n",
    "donation_result2 = [[[99, 1, 99], [10, 10, 10], [20, 20, 20], [30, 30, 30]]]\n",
    "donation_result3 = [[1, 2, 4, 8, 16]]\n",
    "\n",
    "print(solution(donation_result1))  # 출력 예시: [2, 4]"
   ]
  },
  {
   "cell_type": "code",
   "execution_count": 9,
   "metadata": {},
   "outputs": [
    {
     "name": "stdout",
     "output_type": "stream",
     "text": [
      "27\n"
     ]
    },
    {
     "ename": "TypeError",
     "evalue": "unsupported operand type(s) for +: 'int' and 'list'",
     "output_type": "error",
     "traceback": [
      "\u001b[1;31m---------------------------------------------------------------------------\u001b[0m",
      "\u001b[1;31mTypeError\u001b[0m                                 Traceback (most recent call last)",
      "Cell \u001b[1;32mIn[9], line 26\u001b[0m\n\u001b[0;32m     23\u001b[0m donation_result3 \u001b[39m=\u001b[39m [[\u001b[39m1\u001b[39m, \u001b[39m2\u001b[39m, \u001b[39m4\u001b[39m, \u001b[39m8\u001b[39m, \u001b[39m16\u001b[39m]]\n\u001b[0;32m     25\u001b[0m \u001b[39mprint\u001b[39m(max_donation(donation_result1))  \u001b[39m# Output: 5\u001b[39;00m\n\u001b[1;32m---> 26\u001b[0m \u001b[39mprint\u001b[39m(max_donation(donation_result2))  \u001b[39m# Output: 159\u001b[39;00m\n\u001b[0;32m     27\u001b[0m \u001b[39mprint\u001b[39m(max_donation(donation_result3))  \u001b[39m# Output: 0\u001b[39;00m\n",
      "Cell \u001b[1;32mIn[9], line 6\u001b[0m, in \u001b[0;36mmax_donation\u001b[1;34m(donation_result)\u001b[0m\n\u001b[0;32m      3\u001b[0m m \u001b[39m=\u001b[39m \u001b[39mlen\u001b[39m(donation_result)     \u001b[39m# 회차의 수\u001b[39;00m\n\u001b[0;32m      5\u001b[0m \u001b[39m# 첫 번째 회차는 모든 참가자가 기부금을 납부해야 함\u001b[39;00m\n\u001b[1;32m----> 6\u001b[0m total_donation \u001b[39m=\u001b[39m \u001b[39msum\u001b[39m(donation_result[\u001b[39m0\u001b[39m])\n\u001b[0;32m      8\u001b[0m \u001b[39m# 두 번째 회차부터 최대로 미납하는 금액을 구함\u001b[39;00m\n\u001b[0;32m      9\u001b[0m \u001b[39mfor\u001b[39;00m i \u001b[39min\u001b[39;00m \u001b[39mrange\u001b[39m(\u001b[39m1\u001b[39m, m):\n\u001b[0;32m     10\u001b[0m     \u001b[39m# 스파이가 아닌 참가자들 중 최소 기부금을 낸 사람의 인덱스\u001b[39;00m\n",
      "\u001b[1;31mTypeError\u001b[0m: unsupported operand type(s) for +: 'int' and 'list'"
     ]
    }
   ],
   "source": [
    "def max_donation(donation_result):\n",
    "    n = len(donation_result[0])  # 참가자의 수\n",
    "    m = len(donation_result)     # 회차의 수\n",
    "\n",
    "    # 첫 번째 회차는 모든 참가자가 기부금을 납부해야 함\n",
    "    total_donation = sum(donation_result[0])\n",
    "\n",
    "    # 두 번째 회차부터 최대로 미납하는 금액을 구함\n",
    "    for i in range(1, m):\n",
    "        # 스파이가 아닌 참가자들 중 최소 기부금을 낸 사람의 인덱스\n",
    "        min_index = min(range(n), key=lambda x: donation_result[i][x])\n",
    "\n",
    "        # 최소 기부금을 제외한 나머지 금액을 모두 미납함\n",
    "        for j in range(n):\n",
    "            if j != min_index:\n",
    "                total_donation += donation_result[i][j]\n",
    "\n",
    "    return total_donation\n",
    "\n",
    "# Test cases\n",
    "donation_result1 = [[1, 4, 2], [2, 2, 3], [4, 1, 4], [3, 3, 4]]\n",
    "donation_result2 = [[[99, 1, 99], [10, 10, 10], [20, 20, 20], [30, 30, 30]]]\n",
    "donation_result3 = [[1, 2, 4, 8, 16]]\n",
    "\n",
    "print(max_donation(donation_result1))  # Output: 5\n",
    "print(max_donation(donation_result2))  # Output: 159\n",
    "print(max_donation(donation_result3))  # Output: 0\n"
   ]
  },
  {
   "cell_type": "code",
   "execution_count": 17,
   "metadata": {},
   "outputs": [
    {
     "name": "stdout",
     "output_type": "stream",
     "text": [
      "[2, 2, 1, 1, 1, 3, 3]\n"
     ]
    }
   ],
   "source": [
    "def solution(jobs):\n",
    "    answer = []  # 처리한 분류 번호를 담을 리스트\n",
    "\n",
    "    current_time = 0  # 현재 시각\n",
    "    current_category = None  # 현재 처리 중인 분류 번호\n",
    "    category_jobs = {}  # 각 분류별 작업을 담을 딕셔너리 (분류 번호: [작업 정보])\n",
    "\n",
    "    # 작업들을 각 분류별로 분류합니다.\n",
    "    for job in jobs:\n",
    "        _, time, category, _ = job\n",
    "        if category not in category_jobs:\n",
    "            category_jobs[category] = []\n",
    "        category_jobs[category].append(job)\n",
    "\n",
    "    # 분류 번호 순서대로 작업을 처리합니다.\n",
    "    while category_jobs:\n",
    "        next_category = None  # 다음으로 처리할 분류 번호\n",
    "        max_importance = 0  # 처리할 분류 번호의 중요도 합\n",
    "\n",
    "        # 현재 처리 중인 분류의 작업이 남아있다면 계속 처리합니다.\n",
    "        if current_category and category_jobs.get(current_category):\n",
    "            while category_jobs[current_category]:\n",
    "                job = category_jobs[current_category].pop(0)\n",
    "                request_time, time, _, _ = job\n",
    "                current_time = max(current_time, request_time)\n",
    "                current_time += time\n",
    "                answer.append(current_category)\n",
    "\n",
    "        # 모든 분류의 작업을 처리했다면, 다음으로 처리할 분류 번호를 찾습니다.\n",
    "        for category, jobs in category_jobs.items():\n",
    "            importance_sum = sum(job[3] for job in jobs)\n",
    "            if importance_sum > max_importance:\n",
    "                next_category = category\n",
    "                max_importance = importance_sum\n",
    "\n",
    "        # 다음으로 처리할 분류 번호가 있는 경우 처리합니다.\n",
    "        if next_category is not None:\n",
    "            current_category = next_category\n",
    "            while category_jobs[current_category]:\n",
    "                job = category_jobs[current_category].pop(0)\n",
    "                request_time, time, _, _ = job\n",
    "                current_time = max(current_time, request_time)\n",
    "                current_time += time\n",
    "                answer.append(current_category)\n",
    "        else:\n",
    "            # 더 이상 처리할 분류 번호가 없다면 종료합니다.\n",
    "            break\n",
    "\n",
    "    return answer\n",
    "\n",
    "# 예시 입력\n",
    "jobs = [\n",
    "    [1, 5, 2, 3],\n",
    "    [2, 2, 3, 2],\n",
    "    [3, 1, 3, 3],\n",
    "    [5, 2, 1, 5],\n",
    "    [7, 1, 1, 1],\n",
    "    [9, 1, 1, 1],\n",
    "    [10, 2, 2, 9],\n",
    "]\n",
    "\n",
    "# 결과 출력\n",
    "print(solution(jobs))  # 출력: [2, 1, 2, 3]\n"
   ]
  },
  {
   "cell_type": "code",
   "execution_count": 26,
   "metadata": {},
   "outputs": [
    {
     "name": "stdout",
     "output_type": "stream",
     "text": [
      "[2, 2, 3, 3, 1, 1, 1, 2]\n",
      "[1, 1, 2, 1, 1]\n",
      "[3, 4, 3, 4, 3, 4]\n"
     ]
    }
   ],
   "source": [
    "from collections import deque\n",
    "\n",
    "def solution(jobs):\n",
    "    # 작업들을 요청 시각 순서대로 정렬\n",
    "    jobs.sort(key=lambda x: x[0])\n",
    "    \n",
    "    processed_categories = []  # 처리한 분류 번호를 저장할 리스트\n",
    "    current_category = None    # 현재 처리 중인 분류 번호\n",
    "    current_time = 0           # 현재 시각\n",
    "    job_queue = deque()        # 작업을 처리할 큐\n",
    "    \n",
    "    for job in jobs:\n",
    "        request_time, duration, category, importance = job\n",
    "        # 현재 시각이 작업의 요청 시각보다 작다면, 큐에 작업을 추가하고 시간을 업데이트\n",
    "        if current_time < request_time:\n",
    "            while current_time < request_time:\n",
    "                # 다른 분류 중 중요도가 가장 높은 작업을 선택하여 큐에 추가\n",
    "                if current_category is None:\n",
    "                    current_category = category  # 처음 작업을 처리하는 경우\n",
    "                else:\n",
    "                    current_category = max(\n",
    "                        [(job[2], job[3]) for job in jobs if job[2] != current_category],\n",
    "                        key=lambda x: (x[1], x[0])\n",
    "                    )[0]\n",
    "                job_queue.append(current_category)\n",
    "                current_time += 1\n",
    "        \n",
    "        # 현재 분류의 작업을 큐에 추가\n",
    "        job_queue.append(category)\n",
    "        \n",
    "        # 큐에 있는 작업들을 처리하면서 processed_categories에 추가\n",
    "        while job_queue:\n",
    "            current_category = job_queue.popleft()\n",
    "            processed_categories.append(current_category)\n",
    "            current_time += duration\n",
    "\n",
    "    return processed_categories\n",
    "\n",
    "# 테스트\n",
    "print(solution([[1,5,2,3], [2,2,3,2], [3,1,3,3], [5,2,1,5], [7,1,1,1], [9,1,1,1], [10,2,2,9]]))\n",
    "# 출력: [2, 1, 2, 3]\n",
    "\n",
    "print(solution([[1,2,1,5], [2,1,2,100], [3,2,1,5], [5,2,1,5]]))\n",
    "# 출력: [1, 2]\n",
    "\n",
    "print(solution([[0,2,3,1], [5,3,3,1], [10,2,4,1]]))\n",
    "# 출력: [3, 4]\n"
   ]
  },
  {
   "cell_type": "code",
   "execution_count": null,
   "metadata": {},
   "outputs": [],
   "source": []
  }
 ],
 "metadata": {
  "kernelspec": {
   "display_name": "Python 3",
   "language": "python",
   "name": "python3"
  },
  "language_info": {
   "codemirror_mode": {
    "name": "ipython",
    "version": 3
   },
   "file_extension": ".py",
   "mimetype": "text/x-python",
   "name": "python",
   "nbconvert_exporter": "python",
   "pygments_lexer": "ipython3",
   "version": "3.11.4"
  },
  "orig_nbformat": 4
 },
 "nbformat": 4,
 "nbformat_minor": 2
}
