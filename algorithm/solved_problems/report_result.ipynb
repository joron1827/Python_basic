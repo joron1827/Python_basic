{
 "cells": [
  {
   "cell_type": "markdown",
   "metadata": {},
   "source": [
    "# 신고 결과 받기\n",
    "## 문제 설명\n",
    "\n",
    "* 신입사원 무지는 게시판 불량 이용자를 신고하고 처리 결과를 메일로 발송하는 시스템을 개발하려 합니다. 무지가 개발하려는 시스템은 다음과 같습니다.\n",
    "\n",
    "* 각 유저는 한 번에 한 명의 유저를 신고할 수 있습니다.\n",
    "* 신고 횟수에 제한은 없습니다. 서로 다른 유저를 계속해서 신고할 수 있습니다.\n",
    "* 한 유저를 여러 번 신고할 수도 있지만, 동일한 유저에 대한 신고 횟수는 1회로 처리됩니다.\n",
    "* k번 이상 신고된 유저는 게시판 이용이 정지되며, 해당 유저를 신고한 모든 유저에게 정지 사실을 메일로 발송합니다.\n",
    "* 유저가 신고한 모든 내용을 취합하여 마지막에 한꺼번에 게시판 이용 정지를 시키면서 정지 메일을 발송합니다.\n",
    "* 다음은 전체 유저 목록이 [\"muzi\", \"frodo\", \"apeach\", \"neo\"]이고, k = 2(즉, 2번 이상 신고당하면 이용 정지)인 경우의 예시입니다.\n",
    "\n",
    "\n",
    "\n",
    "* 이용자의 ID가 담긴 문자열 배열 id_list, 각 이용자가 신고한 이용자의 ID 정보가 담긴 문자열 배열 report, 정지 기준이 되는 신고 횟수 k가 매개변수로 주어질 때, 각 유저별로 처리 결과 메일을 받은 횟수를 배열에 담아 return 하도록 solution 함수를 완성해주세요.\n",
    "\n"
   ]
  },
  {
   "cell_type": "code",
   "execution_count": null,
   "metadata": {},
   "outputs": [],
   "source": [
    "def solution(id_list, report, k):\n",
    "    answer = []\n",
    "    \n",
    "    indegree = {}\n",
    "    graph = {}\n",
    "    \n",
    "    ## 중복 신고 값 제거\n",
    "    report = list(set(report))\n",
    "    \n",
    "    ## 진입 차수 초기화\n",
    "    for id in id_list:\n",
    "        indegree[id] = 0\n",
    "        graph[id] = 0\n",
    "        \n",
    "    ## 간선 정보를 이용하여 진입 차수 추가\n",
    "    for edge in report:\n",
    "        source, target = edge.split(\" \")\n",
    "        \n",
    "        indegree[target] += 1\n",
    "    \n",
    "    ## 정지 이용자 리스트 추출\n",
    "    stopped_id = list(filter(lambda key: indegree[key] >= k, indegree.keys()))\n",
    "    \n",
    "    \n",
    "    ## 간선 정보를 다시 이용하여, 정지 이용자 리스트에 target이 포함될 경우 그래프에 추가\n",
    "    for edge in report:\n",
    "        source, target = edge.split(\" \")\n",
    "        if target in stopped_id:\n",
    "            graph[source] += 1\n",
    "    \n",
    "    ## 그래프 값 리스트로 변경\n",
    "    answer = list(graph.values())\n",
    "    \n",
    "    return answer"
   ]
  }
 ],
 "metadata": {
  "kernelspec": {
   "display_name": "base",
   "language": "python",
   "name": "python3"
  },
  "language_info": {
   "name": "python",
   "version": "3.10.9"
  },
  "orig_nbformat": 4
 },
 "nbformat": 4,
 "nbformat_minor": 2
}
