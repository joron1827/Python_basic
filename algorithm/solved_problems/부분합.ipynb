{
 "cells": [
  {
   "cell_type": "code",
   "execution_count": 17,
   "metadata": {},
   "outputs": [
    {
     "name": "stdout",
     "output_type": "stream",
     "text": [
      "0 1 100001 5\n",
      "0 2 100001 6\n",
      "0 3 100001 9\n",
      "0 4 100001 14\n",
      "0 5 100001 24\n",
      "1 5 5 19\n",
      "2 5 4 18\n",
      "3 5 3 15\n",
      "4 5 2 10\n",
      "4 6 2 17\n",
      "5 6 2 7\n",
      "5 7 2 11\n",
      "5 8 2 20\n",
      "6 8 2 13\n",
      "6 9 2 15\n",
      "7 9 2 11\n",
      "7 10 2 19\n",
      "2\n"
     ]
    }
   ],
   "source": [
    "\n",
    "\n",
    "\n",
    "n, s = 10, 15\n",
    "numbers = [5, 1, 3, 5, 10, 7, 4, 9, 2, 8]\n",
    "\n",
    "# n, s = list(map(int, input().split()))\n",
    "# numbers = list(map(int, input().split()))\n",
    "\n",
    "def solution(n, s, numbers):\n",
    "\n",
    "    \n",
    "    answer = 100001\n",
    "    start, end = 0,0\n",
    "    num_sum = 0\n",
    "    \n",
    "    while end < n and start < n:\n",
    "        \n",
    "        \n",
    "        if num_sum < s:\n",
    "            num_sum += numbers[end]\n",
    "            end += 1\n",
    "        \n",
    "        else:\n",
    "            answer = min(answer, end-start)\n",
    "            num_sum -= numbers[start]\n",
    "            start += 1\n",
    "        \n",
    "\n",
    "            \n",
    "        print(start, end, answer,num_sum)\n",
    "    if answer == 100001:\n",
    "        return 0\n",
    "    return answer\n",
    "\n",
    "\n",
    "print(solution(n,s,numbers))\n",
    "        \n",
    "                \n",
    "    \n",
    "\n",
    "\n"
   ]
  },
  {
   "cell_type": "code",
   "execution_count": null,
   "metadata": {},
   "outputs": [],
   "source": []
  }
 ],
 "metadata": {
  "kernelspec": {
   "display_name": "Python 3",
   "language": "python",
   "name": "python3"
  },
  "language_info": {
   "codemirror_mode": {
    "name": "ipython",
    "version": 3
   },
   "file_extension": ".py",
   "mimetype": "text/x-python",
   "name": "python",
   "nbconvert_exporter": "python",
   "pygments_lexer": "ipython3",
   "version": "3.11.5"
  },
  "orig_nbformat": 4
 },
 "nbformat": 4,
 "nbformat_minor": 2
}
