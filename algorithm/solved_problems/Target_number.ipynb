{
 "cells": [
  {
   "cell_type": "markdown",
   "metadata": {},
   "source": [
    "## 문제 설명\n",
    "n개의 음이 아닌 정수들이 있습니다. 이 정수들을 순서를 바꾸지 않고 적절히 더하거나 빼서 타겟 넘버를 만들려고 합니다. 예를 들어 [1, 1, 1, 1, 1]로 숫자 3을 만들려면 다음 다섯 방법을 쓸 수 있습니다.\n",
    "\n",
    "```text\n",
    "-1+1+1+1+1 = 3\n",
    "+1-1+1+1+1 = 3\n",
    "+1+1-1+1+1 = 3\n",
    "+1+1+1-1+1 = 3\n",
    "+1+1+1+1-1 = 3\n",
    "\n",
    "```\n",
    "\n",
    "사용할 수 있는 숫자가 담긴 배열 numbers, 타겟 넘버 target이 매개변수로 주어질 때 숫자를 적절히 더하고 빼서 타겟 넘버를 만드는 방법의 수를 return 하도록 solution 함수를 작성해주세요.\n",
    "\n",
    "\n",
    "\n",
    "제한사항\n",
    "* 주어지는 숫자의 개수는 2개 이상 20개 이하입니다.\n",
    "* 각 숫자는 1 이상 50 이하인 자연수입니다.\n",
    "* 타겟 넘버는 1 이상 1000 이하인 자연수입니다\n",
    "\n",
    "입출력 예\n",
    "numbers\ttarget\treturn\n",
    "[1, 1, 1, 1, 1]\t3\t5\n",
    "[4, 1, 2, 1]\t4\t2"
   ]
  },
  {
   "cell_type": "code",
   "execution_count": null,
   "metadata": {},
   "outputs": [],
   "source": [
    "## 내가 사용한 방법(시간초과)\n",
    "\n",
    "from itertools import product\n",
    "\n",
    "def solution(numbers, target):\n",
    "    answer = 0\n",
    "    operations = [\"+\",\"-\"]\n",
    "    \n",
    "    # 주어진 숫자 리스트 길이에 맞게 모든 연산 조합 생성\n",
    "    operation_list = list(product(operations, repeat = len(numbers)))\n",
    "    \n",
    "    for opers in operation_list:\n",
    "        evals=\"\"\n",
    "        for j in range(len(numbers)):\n",
    "            evals = evals + opers[j] + str(numbers[j])\n",
    "        if eval(evals) == target:\n",
    "            answer += 1\n",
    "    return answer"
   ]
  },
  {
   "cell_type": "code",
   "execution_count": null,
   "metadata": {},
   "outputs": [],
   "source": [
    "## 정답\n",
    "\n",
    "def dfs(numbers, target, current_sum, index):\n",
    "    if index == len(numbers):\n",
    "        return 1 if current_sum == target else 0\n",
    "    \n",
    "    positive = dfs(numbers, target, current_sum + numbers[index], index + 1)\n",
    "    negative = dfs(numbers, target, current_sum - numbers[index], index + 1)\n",
    "    return positive + negative\n",
    "\n",
    "def solution(numbers, target):\n",
    "    answer = dfs(numbers,target,0,0)\n",
    "    return answer"
   ]
  }
 ],
 "metadata": {
  "kernelspec": {
   "display_name": "Python 3",
   "language": "python",
   "name": "python3"
  },
  "language_info": {
   "name": "python",
   "version": "3.11.4"
  },
  "orig_nbformat": 4
 },
 "nbformat": 4,
 "nbformat_minor": 2
}
