{
 "cells": [
  {
   "cell_type": "code",
   "execution_count": 11,
   "metadata": {},
   "outputs": [
    {
     "name": "stdout",
     "output_type": "stream",
     "text": [
      "7\n"
     ]
    }
   ],
   "source": [
    "'''\n",
    "n, k \n",
    "\n",
    "리스트\n",
    "'''\n",
    "\n",
    "# n, k = list(map(int, input().split()))\n",
    "# num_list = list(map(int, input().split()))\n",
    "from collections import defaultdict\n",
    "n, k = 9, 2\n",
    "num_list = [3, 2, 5, 5, 6, 4, 4, 5, 7]\n",
    "\n",
    "\n",
    "# n, k = 10, 1\n",
    "# num_list = [1, 2, 3, 4, 5, 6, 6, 7, 8, 9]\n",
    "\n",
    "\n",
    "def hate_number(n,k, num_list):\n",
    "\n",
    "    # 1. 개수를 저장할 수 있는 딕셔너리 생성\n",
    "    # 2. start, end를 0으로 두고 시작\n",
    "    # 3. end를 하나씩 높여가며 반복문 실행\n",
    "    # 4. 포인터를 움직일 때 마다 수열의 길이 업데이트\n",
    "    # 5. k개 이하로 될 때 까지 start + 1 로 수행\n",
    "    # 6. end가 n을 초과할 경우 반복문 종료\n",
    "\n",
    "    start, end = 0, 0\n",
    "    num_dict = defaultdict(int)\n",
    "    answer = 0\n",
    "    while end < n and start < n:\n",
    "        \n",
    "        if num_dict[num_list[end]]  < k:\n",
    "            num_dict[num_list[end]] += 1\n",
    "            end += 1\n",
    "\n",
    "        else:\n",
    "            num_dict[num_list[start]] -= 1\n",
    "            start += 1\n",
    "        \n",
    "        answer = max(answer, end-start)\n",
    "    \n",
    "    return answer\n",
    "\n",
    "\n",
    "print(hate_number(n,k, num_list))"
   ]
  },
  {
   "cell_type": "code",
   "execution_count": null,
   "metadata": {},
   "outputs": [],
   "source": []
  }
 ],
 "metadata": {
  "kernelspec": {
   "display_name": "base",
   "language": "python",
   "name": "python3"
  },
  "language_info": {
   "codemirror_mode": {
    "name": "ipython",
    "version": 3
   },
   "file_extension": ".py",
   "mimetype": "text/x-python",
   "name": "python",
   "nbconvert_exporter": "python",
   "pygments_lexer": "ipython3",
   "version": "3.10.9"
  },
  "orig_nbformat": 4
 },
 "nbformat": 4,
 "nbformat_minor": 2
}
