{
 "cells": [
  {
   "cell_type": "code",
   "execution_count": 3,
   "metadata": {},
   "outputs": [
    {
     "name": "stdout",
     "output_type": "stream",
     "text": [
      "2\n"
     ]
    }
   ],
   "source": [
    "from collections import deque\n",
    "\n",
    "n, k = list(map(int, input().split()))\n",
    "\n",
    "# n, k = 5, 17\n",
    "\n",
    "# 1. dp가 아닌 bfs/dfs 문제\n",
    "# 2. 그래프를 생성하고, 각 그래프에 소요 시간 입력\n",
    "# 3. 연산을 반복하면서 도착지까지 도달 시간 출력\n",
    "\n",
    "def bfs_solution(n,k):\n",
    "    \n",
    "    graph = [100001] * 100001\n",
    "    \n",
    "    queue = deque()\n",
    "    queue.append(n)\n",
    "    \n",
    "    ## 초기 위치 초기화(0초)\n",
    "    graph[n] = 0\n",
    "    \n",
    "    ## 연산 정의\n",
    "    operations = [\"*2\",\"+1\",\"-1\"]\n",
    "    \n",
    "    ## 큐가 빌때까지 반복\n",
    "    while queue:\n",
    "        idx = queue.popleft()\n",
    "        \n",
    "        \n",
    "        ## 종료 조건\n",
    "        if idx == k:\n",
    "            return graph[idx]\n",
    "        \n",
    "        ## 기존 방문 위치(큐)를 기준으로 3개의 연산 수행\n",
    "        for oper in operations:\n",
    "            \n",
    "            ## 새로 방문할 위치 계산\n",
    "            n_idx = eval(str(idx) + oper)\n",
    "            \n",
    "            ## 미방문 여부 확인, 기존 값보다 작을 경우\n",
    "            if 0<= n_idx < 100001 and graph[n_idx] > graph[idx]:\n",
    "                if oper == \"*2\":  ## 순간이동 수행\n",
    "                    graph[n_idx] = graph[idx]\n",
    "                    queue.appendleft(n_idx) ## 순간이동 최우선 큐\n",
    "                else: ## 순간이동이 아닌 경우\n",
    "                    graph[n_idx] = graph[idx] + 1\n",
    "                    queue.append(n_idx)\n",
    "\n",
    "    return None\n",
    "                \n",
    "print(bfs_solution(n,k))\n",
    "\n"
   ]
  },
  {
   "cell_type": "code",
   "execution_count": null,
   "metadata": {},
   "outputs": [],
   "source": []
  }
 ],
 "metadata": {
  "kernelspec": {
   "display_name": "Python 3",
   "language": "python",
   "name": "python3"
  },
  "language_info": {
   "codemirror_mode": {
    "name": "ipython",
    "version": 3
   },
   "file_extension": ".py",
   "mimetype": "text/x-python",
   "name": "python",
   "nbconvert_exporter": "python",
   "pygments_lexer": "ipython3",
   "version": "3.11.5"
  },
  "orig_nbformat": 4
 },
 "nbformat": 4,
 "nbformat_minor": 2
}
