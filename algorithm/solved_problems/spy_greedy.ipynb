{
 "cells": [
  {
   "cell_type": "code",
   "execution_count": 3,
   "metadata": {},
   "outputs": [
    {
     "ename": "IndexError",
     "evalue": "list index out of range",
     "output_type": "error",
     "traceback": [
      "\u001b[1;31m---------------------------------------------------------------------------\u001b[0m",
      "\u001b[1;31mIndexError\u001b[0m                                Traceback (most recent call last)",
      "Cell \u001b[1;32mIn[3], line 43\u001b[0m\n\u001b[0;32m     36\u001b[0m \u001b[39m# 테스트\u001b[39;00m\n\u001b[0;32m     37\u001b[0m donations \u001b[39m=\u001b[39m [\n\u001b[0;32m     38\u001b[0m     [\u001b[39m1\u001b[39m, \u001b[39m4\u001b[39m, \u001b[39m2\u001b[39m],\n\u001b[0;32m     39\u001b[0m     [\u001b[39m2\u001b[39m, \u001b[39m2\u001b[39m, \u001b[39m3\u001b[39m],\n\u001b[0;32m     40\u001b[0m     [\u001b[39m4\u001b[39m, \u001b[39m1\u001b[39m, \u001b[39m4\u001b[39m],\n\u001b[0;32m     41\u001b[0m     [\u001b[39m3\u001b[39m, \u001b[39m3\u001b[39m, \u001b[39m4\u001b[39m]\n\u001b[0;32m     42\u001b[0m ]\n\u001b[1;32m---> 43\u001b[0m \u001b[39mprint\u001b[39m(solution(donations))  \u001b[39m# Output: 2\u001b[39;00m\n",
      "Cell \u001b[1;32mIn[3], line 20\u001b[0m, in \u001b[0;36msolution\u001b[1;34m(donations)\u001b[0m\n\u001b[0;32m     18\u001b[0m \u001b[39mfor\u001b[39;00m i \u001b[39min\u001b[39;00m \u001b[39mrange\u001b[39m(n):\n\u001b[0;32m     19\u001b[0m     \u001b[39mfor\u001b[39;00m j \u001b[39min\u001b[39;00m \u001b[39mrange\u001b[39m(i \u001b[39m+\u001b[39m \u001b[39m1\u001b[39m, n):\n\u001b[1;32m---> 20\u001b[0m         edges\u001b[39m.\u001b[39mappend((donations[i][j], i, j))\n\u001b[0;32m     22\u001b[0m edges\u001b[39m.\u001b[39msort()\n\u001b[0;32m     24\u001b[0m parent \u001b[39m=\u001b[39m [i \u001b[39mfor\u001b[39;00m i \u001b[39min\u001b[39;00m \u001b[39mrange\u001b[39m(n)]\n",
      "\u001b[1;31mIndexError\u001b[0m: list index out of range"
     ]
    }
   ],
   "source": [
    "# Union-Find 자료구조를 이용한 크루스칼 알고리즘\n",
    "def find_parent(parent, x):\n",
    "    if parent[x] != x:\n",
    "        parent[x] = find_parent(parent, parent[x])\n",
    "    return parent[x]\n",
    "\n",
    "def union_parent(parent, a, b):\n",
    "    a = find_parent(parent, a)\n",
    "    b = find_parent(parent, b)\n",
    "    if a < b:\n",
    "        parent[b] = a\n",
    "    else:\n",
    "        parent[a] = b\n",
    "\n",
    "def solution(donations):\n",
    "    n = len(donations)\n",
    "    edges = []\n",
    "    for i in range(n):\n",
    "        for j in range(i + 1, n):\n",
    "            edges.append((donations[i][j], i, j))\n",
    "    \n",
    "    edges.sort()\n",
    "    \n",
    "    parent = [i for i in range(n)]\n",
    "    total_donation = 0\n",
    "    \n",
    "    for edge in edges:\n",
    "        cost, a, b = edge\n",
    "        if find_parent(parent, a) != find_parent(parent, b):\n",
    "            union_parent(parent, a, b)\n",
    "        else:\n",
    "            total_donation += cost\n",
    "    \n",
    "    return total_donation\n",
    "\n",
    "# 테스트\n",
    "donations = [\n",
    "    [1, 4, 2],\n",
    "    [2, 2, 3],\n",
    "    [4, 1, 4],\n",
    "    [3, 3, 4]\n",
    "]\n",
    "print(solution(donations))  # Output: 2\n"
   ]
  },
  {
   "cell_type": "code",
   "execution_count": null,
   "metadata": {},
   "outputs": [],
   "source": []
  }
 ],
 "metadata": {
  "kernelspec": {
   "display_name": "Python 3",
   "language": "python",
   "name": "python3"
  },
  "language_info": {
   "codemirror_mode": {
    "name": "ipython",
    "version": 3
   },
   "file_extension": ".py",
   "mimetype": "text/x-python",
   "name": "python",
   "nbconvert_exporter": "python",
   "pygments_lexer": "ipython3",
   "version": "3.11.4"
  },
  "orig_nbformat": 4
 },
 "nbformat": 4,
 "nbformat_minor": 2
}
