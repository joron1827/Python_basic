{
 "cells": [
  {
   "cell_type": "code",
   "execution_count": 41,
   "metadata": {},
   "outputs": [
    {
     "data": {
      "text/plain": [
       "'Fail'"
      ]
     },
     "execution_count": 41,
     "metadata": {},
     "output_type": "execute_result"
    }
   ],
   "source": [
    "# N,M,T = list(map(int, input().split()))\n",
    "# graph = []\n",
    "# for _ in range(N):\n",
    "#     graph.append(list(map(int, input().split())))\n",
    "\n",
    "\n",
    "\n",
    "# N, M, T = 6, 6, 16\n",
    "# graph =[[0, 0, 0, 0, 1, 1], [0, 0, 0, 0, 0, 2], [1, 1, 1, 0, 1, 0],[0, 0, 0, 0, 0, 0],[0, 1, 1, 1, 1, 1],[0, 0, 0, 0, 0, 0]]\n",
    "\n",
    "\n",
    "N, M, T = 3, 4, 100\n",
    "graph = [[0, 0, 0, 0],[1, 1, 1, 1],[0, 0, 2, 0]]\n",
    "\n",
    "\n",
    "from collections import deque\n",
    "\n",
    "def solution(n,m,t,graph):\n",
    "    \n",
    "    answer = []\n",
    "    start = (0,0)\n",
    "    \n",
    "    gram = []\n",
    "    queue = deque()\n",
    "\n",
    "    queue.append(start)\n",
    "\n",
    "    dx = [0, 0, 1, -1]\n",
    "    dy = [1, -1, 0, 0]\n",
    "\n",
    "    for i in range(n):\n",
    "        for j in range(m):\n",
    "            if graph[i][j] == 2:\n",
    "                graph[i][j] = -1\n",
    "\n",
    "    while queue:\n",
    "        \n",
    "        x, y = queue.popleft()\n",
    "        if graph[x][y] > t:\n",
    "            continue\n",
    "        \n",
    "        for i in range(4):\n",
    "            nx = x + dx[i]\n",
    "            ny = y + dy[i]\n",
    "            if nx < 0 or nx >= n or ny < 0 or ny >= m:\n",
    "                continue\n",
    "\n",
    "            if graph[nx][ny] == -1:\n",
    "                gram.append([nx,ny,graph[x][y]+1])\n",
    "                continue\n",
    "\n",
    "            if graph[nx][ny] != 0:\n",
    "                continue\n",
    "            \n",
    "            if graph[nx][ny] == 0:\n",
    "                graph[nx][ny] = graph[x][y] + 1\n",
    "                queue.append((nx,ny))\n",
    "\n",
    "    if graph[n-1][m-1] != 0:\n",
    "        answer.append(graph[n-1][m-1])\n",
    "    \n",
    "    \n",
    "    ## 그람 사용할 경우  \n",
    "    if len(gram) != 0:\n",
    "        gram.sort(key=lambda x: x[2])\n",
    "        x,y,gram_t = gram[0]\n",
    "        answer.append((n-1 - y) + (m-1 - x ) + gram_t)\n",
    "        \n",
    "\n",
    "    if len(answer) != 0:\n",
    "        if min(answer) <= t:\n",
    "            return min(answer)\n",
    "        else:\n",
    "            return \"Fail\"\n",
    "    else:\n",
    "        return \"Fail\"\n",
    "\n",
    "\n",
    "    \n",
    "solution(N,M,T,graph)\n",
    "        \n"
   ]
  },
  {
   "cell_type": "code",
   "execution_count": null,
   "metadata": {},
   "outputs": [],
   "source": [
    "6 6 16\n",
    "gram = graph[x][y]\n",
    "0 1 2 3 1 1\n",
    "1 2 3 4 5 6\n",
    "1 1 1 0 1 9\n",
    "0 0 7 6 0 0\n",
    "0 1 1 1 1 1\n",
    "0 0 0 0 0 \n",
    "\n",
    "16 10"
   ]
  }
 ],
 "metadata": {
  "kernelspec": {
   "display_name": "base",
   "language": "python",
   "name": "python3"
  },
  "language_info": {
   "codemirror_mode": {
    "name": "ipython",
    "version": 3
   },
   "file_extension": ".py",
   "mimetype": "text/x-python",
   "name": "python",
   "nbconvert_exporter": "python",
   "pygments_lexer": "ipython3",
   "version": "3.10.9"
  },
  "orig_nbformat": 4
 },
 "nbformat": 4,
 "nbformat_minor": 2
}
