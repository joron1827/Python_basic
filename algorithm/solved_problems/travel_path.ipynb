{
 "cells": [
  {
   "cell_type": "markdown",
   "metadata": {},
   "source": [
    "문제 설명\n",
    "주어진 항공권을 모두 이용하여 여행경로를 짜려고 합니다. 항상 \"ICN\" 공항에서 출발합니다.\n",
    "\n",
    "항공권 정보가 담긴 2차원 배열 tickets가 매개변수로 주어질 때, 방문하는 공항 경로를 배열에 담아 return 하도록 solution 함수를 작성해주세요.\n",
    "\n",
    "제한사항\n",
    "모든 공항은 알파벳 대문자 3글자로 이루어집니다.\n",
    "주어진 공항 수는 3개 이상 10,000개 이하입니다.\n",
    "tickets의 각 행 [a, b]는 a 공항에서 b 공항으로 가는 항공권이 있다는 의미입니다.\n",
    "주어진 항공권은 모두 사용해야 합니다.\n",
    "만일 가능한 경로가 2개 이상일 경우 알파벳 순서가 앞서는 경로를 return 합니다.\n",
    "모든 도시를 방문할 수 없는 경우는 주어지지 않습니다.\n",
    "입출력 예\n",
    "tickets\treturn\n",
    "[[\"ICN\", \"JFK\"], [\"HND\", \"IAD\"], [\"JFK\", \"HND\"]]\t[\"ICN\", \"JFK\", \"HND\", \"IAD\"]\n",
    "[[\"ICN\", \"SFO\"], [\"ICN\", \"ATL\"], [\"SFO\", \"ATL\"], [\"ATL\", \"ICN\"], [\"ATL\",\"SFO\"]]\t[\"ICN\", \"ATL\", \"ICN\", \"SFO\", \"ATL\", \"SFO\"]\n",
    "입출력 예 설명\n",
    "예제 #1\n",
    "\n",
    "[\"ICN\", \"JFK\", \"HND\", \"IAD\"] 순으로 방문할 수 있습니다.\n",
    "\n",
    "예제 #2\n",
    "\n",
    "[\"ICN\", \"SFO\", \"ATL\", \"ICN\", \"ATL\", \"SFO\"] 순으로 방문할 수도 있지만 [\"ICN\", \"ATL\", \"ICN\", \"SFO\", \"ATL\", \"SFO\"] 가 알파벳 순으로 앞섭니다."
   ]
  },
  {
   "cell_type": "code",
   "execution_count": null,
   "metadata": {},
   "outputs": [],
   "source": [
    "def dfs(graph, current, path, num_tickets):\n",
    "    ## 현재 위치를 경로에 추가\n",
    "    path.append(current)\n",
    "    \n",
    "    ## 경로의 길이와 티켓의 개수를 비교하여 함수 종료\n",
    "    if len(path) == num_tickets + 1:\n",
    "        return path\n",
    "    \n",
    "    ## 현재 위치가 그래프 내에 존재 할 경우 실행\n",
    "    if current in graph:\n",
    "        destinations = graph[current][:]\n",
    "        for destination in destinations:\n",
    "            graph[current].remove(destination) ## 경로에 추가하므로, 그래프에서 삭제\n",
    "            new_path = dfs(graph, destination, path[:], num_tickets) # 새로 추가된 도착지를 출발지로 하여 재귀함수\n",
    "            if new_path: ## 경로 반환 성공시 함수 종료\n",
    "                return new_path\n",
    "            graph[current].append(destination) ## 경로 반환실패시 다시 경로에 넣고 정렬\n",
    "            graph[current].sort()\n",
    "    \n",
    "    ## 경로 탐색 실패시 반환\n",
    "    return []\n",
    "\n",
    "def solution(tickets):\n",
    "    answer = []\n",
    "    ticket_info = {}\n",
    "    \n",
    "    for departure, arrival in tickets:\n",
    "        if departure not in ticket_info:\n",
    "            ticket_info[departure] = []\n",
    "        ticket_info[departure].append(arrival)\n",
    "    \n",
    "    for key in ticket_info:\n",
    "        ticket_info[key].sort()\n",
    "    \n",
    "    num_tickets = len(tickets)\n",
    "    answer = dfs(ticket_info, 'ICN', [], num_tickets)\n",
    "    \n",
    "    return answer"
   ]
  }
 ],
 "metadata": {
  "kernelspec": {
   "display_name": "Python 3",
   "language": "python",
   "name": "python3"
  },
  "language_info": {
   "name": "python",
   "version": "3.11.4"
  },
  "orig_nbformat": 4
 },
 "nbformat": 4,
 "nbformat_minor": 2
}
