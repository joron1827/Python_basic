{
 "cells": [
  {
   "cell_type": "markdown",
   "metadata": {},
   "source": [
    "### 그래프 알고리즘\n",
    "\n",
    "* 그래프 알고리즘은 다른 알고리즘에 기반함\n",
    "* 크루스칼 알고리즘은 그리디\n",
    "* 위상 정렬 알고리즘은 큐 혹은 스택 자료구조\n",
    "\n",
    "* 노드의 개수가 V 간선이 E 인경우 O(V^@), O(E) 만큼의 메모리 공간이 필요하다\n",
    "* 인접 리스트를 이용할 때는 O(V) 만큼의 시간이 소요된다.\n",
    "\n"
   ]
  },
  {
   "cell_type": "markdown",
   "metadata": {},
   "source": [
    "## 서로소 집합\n",
    "\n",
    "* 수학에서 서로소 집합이란 공통 원소가 없는 두 집합이다.\n",
    "    * 예를 들어 집합 {1, 2}와 {3, 4}는 서로소 관계이다.\n",
    "    * 반면에 집합 {1,2}와 {2,3} 은 서로소 관계가 아니다.\n",
    "\n",
    "* 서로소 집합 자료구조는 union과 find 2개 연산으로 조작할 수 있다.\n",
    "* union 연산은 2개 원소가 포함된 집합을 하나의 집합으로 합치는 연산\n",
    "* find 연산은 특정한 원소가 속한 집합이 어떤 집합인지 알려주는 연산"
   ]
  },
  {
   "cell_type": "code",
   "execution_count": 5,
   "metadata": {},
   "outputs": [
    {
     "name": "stdout",
     "output_type": "stream",
     "text": [
      "1294199779275816105\n"
     ]
    }
   ],
   "source": [
    "## find-union 알고리즘 구현\n",
    "\n",
    "def find_parent(parent, x):\n",
    "    # 루트 노드가 아니라면, 루트 노드를 찾을 때까지 재귀적으로 호출\n",
    "    if parent[x] != x:\n",
    "        return find_parent(parent,parent[x])\n",
    "    return x\n",
    "\n",
    "def union_parent(parent,a, b):\n",
    "    a = find_parent(parent, a)\n",
    "    b = find_parent(parent, b)\n",
    "    if a < b:\n",
    "        parent[b] = a\n",
    "    else:\n",
    "        parent[a] = b\n",
    "        \n",
    "v, e = map(int, input().split())\n",
    "parent = [0] * (v + 1)\n",
    "\n",
    "# 부모를 자기 자신으로 초기화\n",
    "for i in range(1, v+1):\n",
    "    parent[i] = i\n",
    "    \n",
    "# union 연산을 각자 수행\n",
    "for i in range(e):\n",
    "    a, b = map(int, input().split())\n",
    "    union_parent(parent, a, b)\n",
    "    \n",
    "for i in range(1, v+1):\n",
    "    print(find_parent(parent,i))"
   ]
  },
  {
   "cell_type": "code",
   "execution_count": 6,
   "metadata": {},
   "outputs": [],
   "source": [
    "## 경로 압축을 사용해 find 함수 개선\n",
    "\n",
    "def find_parent(parent, x):\n",
    "    if parent[x] != x:\n",
    "        parent[x] = find_parent(parent, parent[x])\n",
    "    return parent[x]"
   ]
  },
  {
   "cell_type": "code",
   "execution_count": 8,
   "metadata": {},
   "outputs": [
    {
     "ename": "ValueError",
     "evalue": "not enough values to unpack (expected 2, got 0)",
     "output_type": "error",
     "traceback": [
      "\u001b[1;31m---------------------------------------------------------------------------\u001b[0m",
      "\u001b[1;31mValueError\u001b[0m                                Traceback (most recent call last)",
      "Cell \u001b[1;32mIn[8], line 3\u001b[0m\n\u001b[0;32m      1\u001b[0m \u001b[39m## find-union을 활용하여 사이클 확인하기\u001b[39;00m\n\u001b[1;32m----> 3\u001b[0m v, e \u001b[39m=\u001b[39m \u001b[39mmap\u001b[39m(\u001b[39mint\u001b[39m, \u001b[39minput\u001b[39m()\u001b[39m.\u001b[39msplit())\n\u001b[0;32m      4\u001b[0m parent \u001b[39m=\u001b[39m [\u001b[39m0\u001b[39m] \u001b[39m*\u001b[39m (v \u001b[39m+\u001b[39m \u001b[39m1\u001b[39m)\n\u001b[0;32m      6\u001b[0m \u001b[39m# 부모를 자기 자신으로 초기화\u001b[39;00m\n",
      "\u001b[1;31mValueError\u001b[0m: not enough values to unpack (expected 2, got 0)"
     ]
    }
   ],
   "source": [
    "## find-union을 활용하여 사이클 확인하기\n",
    "\n",
    "v, e = map(int, input().split())\n",
    "parent = [0] * (v + 1)\n",
    "\n",
    "# 부모를 자기 자신으로 초기화\n",
    "for i in range(1, v+1):\n",
    "    parent[i] = i\n",
    "    \n",
    "cycle = False\n",
    "\n",
    "for i in range(e):\n",
    "    a, b = map(int, input().split())\n",
    "    # 사이클이 발생한 경우 종료\n",
    "    if find_parent(parent, a) == find_parent(parent,b):\n",
    "        cycle = True\n",
    "        break\n",
    "    else:\n",
    "        union_parent(parent,a, b)"
   ]
  },
  {
   "cell_type": "markdown",
   "metadata": {},
   "source": [
    "## 신장 트리\n",
    "\n",
    "* 하나의 그래프가 있을 때 모든 노드를 포함하면서 사이클이 존재 하지 않는 부분 그래프\n",
    "\n",
    "## 크루스칼 알조리즘\n",
    "\n",
    "* 가장 최소한의 비용으로 트리를 찾아야 할 때\n",
    "* 모든 간선에 대해서 정렬을 수행한 뒤에 거리가 짧은 간선부터 집합에 포함"
   ]
  },
  {
   "cell_type": "code",
   "execution_count": 9,
   "metadata": {},
   "outputs": [
    {
     "ename": "SyntaxError",
     "evalue": "expected ':' (21316112.py, line 36)",
     "output_type": "error",
     "traceback": [
      "\u001b[1;36m  Cell \u001b[1;32mIn[9], line 36\u001b[1;36m\u001b[0m\n\u001b[1;33m    if find_parent(parent, a) != find_parent(parent, b)\u001b[0m\n\u001b[1;37m                                                       ^\u001b[0m\n\u001b[1;31mSyntaxError\u001b[0m\u001b[1;31m:\u001b[0m expected ':'\n"
     ]
    }
   ],
   "source": [
    "## 크루스칼 알고리즘 소스코드\n",
    "\n",
    "def find_parent(parent, x):\n",
    "    if parent[x] != x:\n",
    "        parent[x] = find_parent(parent,parent[x])\n",
    "    return parent[x]\n",
    "\n",
    "def union_parent(parent, a, b):\n",
    "    a = find_parent(parent, a)\n",
    "    b = find_parent(parent, b)\n",
    "    if a < b:\n",
    "        parent[b] = a\n",
    "    else:\n",
    "        parent[a] = b\n",
    "        \n",
    "v, e = map(int,input().split())\n",
    "parent = [0] * (v + 1)\n",
    "\n",
    "edges = []\n",
    "result = 0\n",
    "\n",
    "for i in range(1, v+1):\n",
    "    parent[i] = i\n",
    "    \n",
    "\n",
    "for _ in range(e):\n",
    "    a, b, cost = map(int, input().split())\n",
    "    # 비용순으로 정렬하기 위해서 튜플의 첫 번째 원소를 비용으로 설정\n",
    "    edges.append((cost,a,b))\n",
    "    \n",
    "    edges.sort()\n",
    "    \n",
    "    for edge in edges:\n",
    "        cost, a, b = edge\n",
    "        \n",
    "        if find_parent(parent, a) != find_parent(parent, b):\n",
    "            union_parent(parent, a b)\n",
    "            result += cost\n",
    "            \n",
    "print(result)\n",
    "\n",
    "\n"
   ]
  },
  {
   "cell_type": "markdown",
   "metadata": {},
   "source": [
    "## 위상 정렬\n",
    "\n",
    "* 순서가 정해져 있는 일련의 작업을 수행해야 할 때 사용함.\n",
    "* 선수과목을 고려한 학습 순서 설정\n",
    "\n",
    "* 순서가 정해져 있는 일련의 작업을 차례대로 수행해야 할 때 사용할 수 있는 알고리즘\n",
    "* 방향 그래프의 모든 노드를 방향성에 거스르지 않도록 순서대로 나열\n",
    "\n",
    "* 위상 정렬 알고리즘을 사용하기 위해선 진입 차수를 알아야 한다.\n",
    "* 예를 들어 고급 알고리즘의 선수 과목이 알고리즘과 자료구조이면 진입차수가 2이다.\n",
    "\n",
    "1. 진입 차수가 0인 노드를 큐에 넣는다.\n",
    "2. 큐가 빌때까지 다음의 과정을 반복한다\n",
    "    1. 큐에서 원소를 꺼내 해당 노드에서 출발하는 간선을 그래프에서 제거\n",
    "    2. 새롭게 진입차수가 0이 된 노드를 큐에 넣는다\n",
    "* 사이클이 없는 것을 기본 전제로 함\n"
   ]
  },
  {
   "cell_type": "code",
   "execution_count": 12,
   "metadata": {},
   "outputs": [
    {
     "ename": "ValueError",
     "evalue": "not enough values to unpack (expected 2, got 0)",
     "output_type": "error",
     "traceback": [
      "\u001b[1;31m---------------------------------------------------------------------------\u001b[0m",
      "\u001b[1;31mValueError\u001b[0m                                Traceback (most recent call last)",
      "Cell \u001b[1;32mIn[12], line 5\u001b[0m\n\u001b[0;32m      1\u001b[0m \u001b[39m## 위상 정렬 구현\u001b[39;00m\n\u001b[0;32m      3\u001b[0m \u001b[39mfrom\u001b[39;00m \u001b[39mcollections\u001b[39;00m \u001b[39mimport\u001b[39;00m deque\n\u001b[1;32m----> 5\u001b[0m v, e \u001b[39m=\u001b[39m \u001b[39mmap\u001b[39m(\u001b[39mint\u001b[39m, \u001b[39minput\u001b[39m()\u001b[39m.\u001b[39msplit())\n\u001b[0;32m      7\u001b[0m \u001b[39m# 모든 노드에 대한 진입 차수는 0 으로 초기화\u001b[39;00m\n\u001b[0;32m      8\u001b[0m indegree \u001b[39m=\u001b[39m [\u001b[39m0\u001b[39m] \u001b[39m*\u001b[39m ( v\u001b[39m+\u001b[39m \u001b[39m1\u001b[39m)\n",
      "\u001b[1;31mValueError\u001b[0m: not enough values to unpack (expected 2, got 0)"
     ]
    }
   ],
   "source": [
    "## 위상 정렬 구현\n",
    "\n",
    "from collections import deque\n",
    "\n",
    "v, e = map(int, input().split())\n",
    "\n",
    "# 모든 노드에 대한 진입 차수는 0 으로 초기화\n",
    "indegree = [0] * ( v+ 1)\n",
    "graph = [[] for i in range(v + 1)]\n",
    "\n",
    "for _ in range(e):\n",
    "    a, b = map(int(), input().split())\n",
    "    \n",
    "    graph[a].append[b]\n",
    "    \n",
    "    indegree[b] += 1\n",
    "    \n",
    "def topology_sort():\n",
    "    result = [] \n",
    "    q = deque()\n",
    "   \n",
    "    for i in range(1, v+1):\n",
    "       if indegree[i] == 0:\n",
    "           q.append(i)\n",
    "    \n",
    "    while q:\n",
    "        now = q.popleft()\n",
    "        result.append(now)\n",
    "        \n",
    "        for i in grage[now]:\n",
    "            indegree[i] -= 1\n",
    "            \n",
    "            if indegree[i] == 0:\n",
    "                q.append(i)    \n",
    "    "
   ]
  },
  {
   "cell_type": "code",
   "execution_count": null,
   "metadata": {},
   "outputs": [],
   "source": []
  }
 ],
 "metadata": {
  "kernelspec": {
   "display_name": "Python 3",
   "language": "python",
   "name": "python3"
  },
  "language_info": {
   "codemirror_mode": {
    "name": "ipython",
    "version": 3
   },
   "file_extension": ".py",
   "mimetype": "text/x-python",
   "name": "python",
   "nbconvert_exporter": "python",
   "pygments_lexer": "ipython3",
   "version": "3.11.4"
  },
  "orig_nbformat": 4
 },
 "nbformat": 4,
 "nbformat_minor": 2
}
