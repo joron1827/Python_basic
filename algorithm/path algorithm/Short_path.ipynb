{
 "cells": [
  {
   "cell_type": "markdown",
   "metadata": {},
   "source": [
    "### 최단 경로 찾기\n",
    "\n",
    "* 한 지점에서 다른 지점까지의 최단 경로를 구하는 방법\n",
    "* 각 지점은 '노드', 도로는 '간선'으로 표현\n",
    "* 다익스트라, 플로이드 워셜, 벨멘 포드를 자주 쓴다."
   ]
  },
  {
   "cell_type": "markdown",
   "metadata": {},
   "source": [
    "## 다익스트라 최단경로 알고리즘\n",
    "\n",
    "1. 출발 노드 설정\n",
    "2. 최단 거리 테이블 초기화\n",
    "3. 방문하지 않은 노드 중에서 최단 거리가 가장 짧은 노드 선택\n",
    "4. 해당 노드를 거쳐 다른 노드로 가능 비용을 계산하여 최단 거리 테이블 갱신\n",
    "5. 3번과 4번을 반복\n",
    "\n"
   ]
  },
  {
   "cell_type": "code",
   "execution_count": null,
   "metadata": {},
   "outputs": [],
   "source": [
    "\n",
    "import heapq\n",
    "\n",
    "def dijkstra(graph, start):\n",
    "    # 무한을 의미하는 값을 설정합니다.\n",
    "    INF = int(1e9)\n",
    "    \n",
    "    # 최단 거리 테이블을 모두 무한으로 초기화합니다.\n",
    "    distances = [INF] * (len(graph) + 1)\n",
    "    \n",
    "    # 시작 노드의 최단 거리를 0으로 설정하고, 우선순위 큐에 삽입합니다.\n",
    "    distances[start] = 0\n",
    "    pq = [(0, start)]\n",
    "    \n",
    "    while pq:\n",
    "        # 우선순위 큐에서 가장 최단 거리가 짧은 노드를 꺼내옵니다.\n",
    "        dist, now = heapq.heappop(pq)\n",
    "        \n",
    "        # 현재 노드가 이미 처리된 적이 있는 노드라면 무시합니다.\n",
    "        if distances[now] < dist:\n",
    "            continue\n",
    "        \n",
    "        # 현재 노드와 연결된 다른 인접한 노드들을 확인합니다.\n",
    "        for next_node, cost in graph[now]:\n",
    "            new_cost = dist + cost\n",
    "            \n",
    "            # 현재 노드를 거쳐서 다른 노드로 이동하는 거리가 더 짧은 경우\n",
    "            if new_cost < distances[next_node]:\n",
    "                distances[next_node] = new_cost\n",
    "                heapq.heappush(pq, (new_cost, next_node))\n",
    "    \n",
    "    return distances\n",
    "\n",
    "# 예시 그래프\n",
    "graph = {\n",
    "    1: [(2, 2), (3, 5), (4, 1)],\n",
    "    2: [(3, 3), (4, 2)],\n",
    "    3: [(2, 3), (6, 5)],\n",
    "    4: [(3, 3), (5, 1)],\n",
    "    5: [(3, 1), (6, 2)]\n",
    "}\n",
    "\n",
    "start_node = 1\n",
    "distances = dijkstra(graph, start_node)\n",
    "\n",
    "print(\"각 노드까지의 최단 거리:\")\n",
    "for node, distance in enumerate(distances[1:], start=1):\n",
    "    print(f\"{start_node}에서 {node}까지의 최단 거리:\", distance)\n",
    "\n"
   ]
  },
  {
   "cell_type": "code",
   "execution_count": null,
   "metadata": {},
   "outputs": [],
   "source": []
  }
 ],
 "metadata": {
  "kernelspec": {
   "display_name": "Python 3",
   "language": "python",
   "name": "python3"
  },
  "language_info": {
   "name": "python",
   "version": "3.11.4"
  },
  "orig_nbformat": 4
 },
 "nbformat": 4,
 "nbformat_minor": 2
}
