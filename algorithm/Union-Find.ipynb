{
 "cells": [
  {
   "cell_type": "markdown",
   "metadata": {},
   "source": [
    "* Union-Find 알고리즘은 대표적으로 Disjoint Set 자료구조를 구현하는 데 사용됩니다.\n",
    "* 이를 이용하여 크루스칼 알고리즘에서 사이클을 확인하는 용도로도 사용됩니다."
   ]
  },
  {
   "cell_type": "markdown",
   "metadata": {},
   "source": [
    "## 문제 설명\n",
    "* n개의 섬 사이에 다리를 건설하는 비용(costs)이 주어질 때, 최소의 비용으로 모든 섬이 서로 통행 가능하도록 만들 때 필요한 최소 비용을 return 하도록 solution을 완성하세요.\n",
    "\n",
    "* 다리를 여러 번 건너더라도, 도달할 수만 있으면 통행 가능하다고 봅니다. 예를 들어 A 섬과 B 섬 사이에 다리가 있고, B 섬과 C 섬 사이에 다리가 있으면 A 섬과 C 섬은 서로 통행 가능합니다.\n",
    "\n",
    "### 제한사항\n",
    "\n",
    "섬의 개수 n은 1 이상 100 이하입니다.\n",
    "costs의 길이는 ((n-1) * n) / 2이하입니다.\n",
    "임의의 i에 대해, costs[i][0] 와 costs[i] [1]에는 다리가 연결되는 두 섬의 번호가 들어있고, costs[i] [2]에는 이 두 섬을 연결하는 다리를 건설할 때 드는 비용입니다.\n",
    "같은 연결은 두 번 주어지지 않습니다. 또한 순서가 바뀌더라도 같은 연결로 봅니다. 즉 0과 1 사이를 연결하는 비용이 주어졌을 때, 1과 0의 비용이 주어지지 않습니다.\n",
    "모든 섬 사이의 다리 건설 비용이 주어지지 않습니다. 이 경우, 두 섬 사이의 건설이 불가능한 것으로 봅니다.\n",
    "연결할 수 없는 섬은 주어지지 않습니다.\n",
    "입출력 예\n",
    "\n",
    "n\tcosts\treturn\n",
    "4\t[[0,1,1],[0,2,2],[1,2,5],[1,3,1],[2,3,8]]\t4"
   ]
  },
  {
   "cell_type": "code",
   "execution_count": null,
   "metadata": {},
   "outputs": [],
   "source": [
    "def find(parent, x):\n",
    "    if parent[x] != x: ## parent의 x 번째 값과 x의 값이 다를 경우, 즉 x가 2일때. [0,1,0,3] 일 경우 실행\n",
    "        parent[x] = find(parent, parent[x]) ## parent[x]의 값은(부모 노드) parent와 0 사이에 find 함수를 적용한 값을 찾아낸다. 연결된 값들을 검색하는 기능\n",
    "    return parent[x]\n",
    "\n",
    "def union(parent, x, y):\n",
    "    x_root = find(parent, x)\n",
    "    y_root = find(parent, y) ## 연결하려는 두 노드의 부모 노드를 찾아낸다.\n",
    "    parent[y_root] = x_root ## 부모 노드를 같게 만든다.\n",
    "\n",
    "def solution(n, costs):\n",
    "    ## 비용이 낮은 순으로 정렬\n",
    "    costs.sort(key=lambda x: x[2])\n",
    "\n",
    "    # 각 섬을 독립적인 집합으로 생성\n",
    "    parent = [i for i in range(n)]\n",
    "\n",
    "    total_cost = 0\n",
    "\n",
    "    for bridge in costs:\n",
    "        island1, island2, cost = bridge\n",
    "        if find(parent, island1) != find(parent, island2) # 주어진 costs를 바탕으로 두 섬이 연결되어 있는지 확인\n",
    "            union(parent, island1, island2)\n",
    "            total_cost += cost\n",
    "    \n",
    "    return total_cost\n"
   ]
  }
 ],
 "metadata": {
  "kernelspec": {
   "display_name": "base",
   "language": "python",
   "name": "python3"
  },
  "language_info": {
   "name": "python",
   "version": "3.10.9"
  },
  "orig_nbformat": 4
 },
 "nbformat": 4,
 "nbformat_minor": 2
}
