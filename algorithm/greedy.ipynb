{
 "cells": [
  {
   "cell_type": "markdown",
   "metadata": {},
   "source": [
    "# 큰 수의 법칙\n"
   ]
  },
  {
   "cell_type": "code",
   "execution_count": 9,
   "metadata": {},
   "outputs": [],
   "source": [
    "n, m, k = map(int, input().split())\n",
    "data = list(map(int, input().split()))"
   ]
  },
  {
   "cell_type": "code",
   "execution_count": 44,
   "metadata": {},
   "outputs": [
    {
     "name": "stdout",
     "output_type": "stream",
     "text": [
      "46\n"
     ]
    }
   ],
   "source": [
    "n, m, k = 5, 8, 3\n",
    "data.sort(reverse=True)\n",
    "data = data[:2]\n",
    "\n",
    "result = 0 \n",
    "\n",
    "while True:\n",
    "    for i in range(k):\n",
    "        if m == 0:\n",
    "            break\n",
    "        result += data[0]\n",
    "        m -= 1\n",
    "    if m == 0:\n",
    "        break\n",
    "    result += data[1]\n",
    "    m -= 1\n",
    "print(result)   \n",
    "    "
   ]
  },
  {
   "cell_type": "markdown",
   "metadata": {},
   "source": [
    "## 숫자 카드 게임"
   ]
  },
  {
   "cell_type": "code",
   "execution_count": 51,
   "metadata": {},
   "outputs": [
    {
     "name": "stdout",
     "output_type": "stream",
     "text": [
      "[1, 1, 2]\n"
     ]
    }
   ],
   "source": [
    "'''\n",
    "test case\n",
    "\n",
    "3 3\n",
    "3 1 2\n",
    "4 1 4\n",
    "2 2 2\n",
    "\n",
    "'''\n",
    "\n",
    "n, m = map(int,input().split())\n",
    "card_row = list()\n",
    "for i in range(m):\n",
    "    data = list(map(int,input().split()))\n",
    "    card_row.append(data)\n",
    "\n",
    "selected_card = list()    \n",
    "for i in range(m):\n",
    "    selected_card.append(min(card_row[i]))\n",
    "\n",
    "print(selected_card)"
   ]
  },
  {
   "cell_type": "markdown",
   "metadata": {},
   "source": [
    "## 1이 될 때까지"
   ]
  },
  {
   "cell_type": "code",
   "execution_count": 59,
   "metadata": {},
   "outputs": [],
   "source": [
    "n, k = map(int, input().split())\n",
    "\n",
    "count = 0\n",
    "while True:\n",
    "    if n == 1: break\n",
    "    if n % k == 0:\n",
    "        n = n / k\n",
    "        count += 1\n",
    "    else:\n",
    "        n -= 1\n",
    "        count += 1\n",
    "    \n",
    "print(count)"
   ]
  }
 ],
 "metadata": {
  "kernelspec": {
   "display_name": "Python 3",
   "language": "python",
   "name": "python3"
  },
  "language_info": {
   "codemirror_mode": {
    "name": "ipython",
    "version": 3
   },
   "file_extension": ".py",
   "mimetype": "text/x-python",
   "name": "python",
   "nbconvert_exporter": "python",
   "pygments_lexer": "ipython3",
   "version": "3.11.4"
  },
  "orig_nbformat": 4
 },
 "nbformat": 4,
 "nbformat_minor": 2
}
