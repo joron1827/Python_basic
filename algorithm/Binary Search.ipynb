{
 "cells": [
  {
   "cell_type": "markdown",
   "metadata": {},
   "source": [
    "## 이진 탐색\n",
    "\n",
    "* 리스트 내 데이터를 빠르게 탐색하는 이진 탐색 알고리즘\n",
    "* 내부의 데이터가 정렬되어 있어야 사용할 수 있다.\n",
    "* 한번 확인할 때 마다 원소의 개수가 줄어서 O(logN)이다\n"
   ]
  },
  {
   "cell_type": "code",
   "execution_count": 1,
   "metadata": {},
   "outputs": [],
   "source": [
    "## 이진 탐색 재귀 함수로 구현\n",
    "\n",
    "def binary_search(array, target, start, end):\n",
    "    if start > end:\n",
    "        return None\n",
    "    mid = (start + end) // 2\n",
    "\n",
    "    if array[mid] == target:\n",
    "        return mid\n",
    "    \n",
    "    elif array[mid] > target:\n",
    "        return binary_search(array, target, start, mid -1)\n",
    "    \n",
    "    else:\n",
    "        return binary_search(array, target, mid+1, end)   \n",
    "    \n"
   ]
  },
  {
   "cell_type": "code",
   "execution_count": 2,
   "metadata": {},
   "outputs": [],
   "source": [
    "## 이진 탐색 반복문으로 구현\n",
    "\n",
    "def binary_search_recursive(array, target, start, end):\n",
    "    while start <= end:\n",
    "        mid = (start + end) // 2\n",
    "        if array[mid] == target:\n",
    "            return mid\n",
    "        elif array[mid] > target:\n",
    "            end = mid - 1\n",
    "        else:\n",
    "            start = mid + 1\n",
    "    return None\n"
   ]
  },
  {
   "cell_type": "markdown",
   "metadata": {},
   "source": [
    "## 떡볶이 떡 만들기\n",
    "\n",
    "* 절단기에 높이를 지정하면 줄지어진 떡을 한번에 절단\n",
    "* 높이가 H 보다 긴 떡은 잘리며 부분 조각이 남음\n",
    "* 19, 14, 10, 17cm 인 떡있을 때 높이가 15이면 떡 길이는 4, 0, 0, 2cm 이다. 손님은 6cm를 가져간다\n",
    "* 요청한 떡의 총 길이가 M 일때 떡을 얻기 위해 설정할 수 있는 절단기의 최대값을 구하시오"
   ]
  },
  {
   "cell_type": "code",
   "execution_count": 5,
   "metadata": {},
   "outputs": [
    {
     "name": "stdout",
     "output_type": "stream",
     "text": [
      "(15, 2, 6)\n"
     ]
    }
   ],
   "source": [
    "n, m = list(map(int, input().split(' '))) # 요청한 떡 개수와 총 길이\n",
    "array = list(map(int, input().split()))\n",
    "\n",
    "def search_height(array, h):\n",
    "    ricecake = []\n",
    "    for tmp in array:\n",
    "        peice = tmp - h\n",
    "        if peice >= 0:\n",
    "            ricecake.append(peice)\n",
    "        else:\n",
    "            ricecake.append(0)\n",
    "    return ricecake\n",
    "\n",
    "def cut_rice_cake(array,n,m):\n",
    "\n",
    "    array.sort(reverse=True)\n",
    "    height = max(array)\n",
    "    while True:\n",
    "        sample = search_height(array,height)\n",
    "        count = len(list(filter(lambda x: x!=0, array)))\n",
    "        if sum(sample) == m: return height, n, m\n",
    "        else:\n",
    "            height -= 1\n",
    "        if height == 0:\n",
    "            return None\n",
    "\n",
    "print(cut_rice_cake(array,n,m))\n"
   ]
  },
  {
   "cell_type": "code",
   "execution_count": 41,
   "metadata": {},
   "outputs": [
    {
     "name": "stdout",
     "output_type": "stream",
     "text": [
      "0\n"
     ]
    }
   ],
   "source": [
    "def binary_search(array, start, end,dp):\n",
    "    if start >= end:\n",
    "        return 0\n",
    "    mid = (start + end) // 2\n",
    "\n",
    "    if dp[end+1] == 1:\n",
    "        return\n",
    "    \n",
    "    if (array[start] + array[end]) == array[end+1]:\n",
    "        dp[end+1] = 1\n",
    "        \n",
    "\n",
    "    left = binary_search(array, start, mid -1,dp)\n",
    "    right = binary_search(array, mid+1, end, dp)  \n",
    "    \n",
    "\n",
    "def find_good(array,n):\n",
    "    dp = [0] * n\n",
    "    array.sort(reverse=True)\n",
    "    for i in range(n-1, -1, -1):\n",
    "\n",
    "\n",
    "        binary_search(array,0,i-1,dp)\n",
    "\n",
    "\n",
    "    return sum(dp)\n",
    "\n",
    "\n",
    "# n = int(input())\n",
    "# array = list(map(int, input().split()))\n",
    "n = 10\n",
    "array = [2,2,3,4,5,6,7,8,9,10]\n",
    "print(find_good(array,n))"
   ]
  },
  {
   "cell_type": "code",
   "execution_count": 37,
   "metadata": {},
   "outputs": [
    {
     "name": "stdout",
     "output_type": "stream",
     "text": [
      "[(1, 1), (1, 2), (1, 3), (1, 4), (1, 5), (1, 6), (1, 7), (1, 8), (1, 9), (2, 1), (2, 2), (2, 3), (2, 4), (2, 5), (2, 6), (2, 7), (2, 8), (2, 9), (3, 1), (3, 2), (3, 3), (3, 4), (3, 5), (3, 6), (3, 7), (3, 8), (3, 9), (4, 1), (4, 2), (4, 3), (4, 4), (4, 5), (4, 6), (4, 7), (4, 8), (4, 9), (5, 1), (5, 2), (5, 3), (5, 4), (5, 5), (5, 6), (5, 7), (5, 8), (5, 9), (6, 1), (6, 2), (6, 3), (6, 4), (6, 5), (6, 6), (6, 7), (6, 8), (6, 9), (7, 1), (7, 2), (7, 3), (7, 4), (7, 5), (7, 6), (7, 7), (7, 8), (7, 9), (8, 1), (8, 2), (8, 3), (8, 4), (8, 5), (8, 6), (8, 7), (8, 8), (8, 9), (9, 1), (9, 2), (9, 3), (9, 4), (9, 5), (9, 6), (9, 7), (9, 8), (9, 9)]\n",
      "[(1, 1), (1, 2), (1, 3), (1, 4), (1, 5), (1, 6), (1, 7), (1, 8), (2, 1), (2, 2), (2, 3), (2, 4), (2, 5), (2, 6), (2, 7), (2, 8), (3, 1), (3, 2), (3, 3), (3, 4), (3, 5), (3, 6), (3, 7), (3, 8), (4, 1), (4, 2), (4, 3), (4, 4), (4, 5), (4, 6), (4, 7), (4, 8), (5, 1), (5, 2), (5, 3), (5, 4), (5, 5), (5, 6), (5, 7), (5, 8), (6, 1), (6, 2), (6, 3), (6, 4), (6, 5), (6, 6), (6, 7), (6, 8), (7, 1), (7, 2), (7, 3), (7, 4), (7, 5), (7, 6), (7, 7), (7, 8), (8, 1), (8, 2), (8, 3), (8, 4), (8, 5), (8, 6), (8, 7), (8, 8)]\n",
      "[(1, 1), (1, 2), (1, 3), (1, 4), (1, 5), (1, 6), (1, 7), (2, 1), (2, 2), (2, 3), (2, 4), (2, 5), (2, 6), (2, 7), (3, 1), (3, 2), (3, 3), (3, 4), (3, 5), (3, 6), (3, 7), (4, 1), (4, 2), (4, 3), (4, 4), (4, 5), (4, 6), (4, 7), (5, 1), (5, 2), (5, 3), (5, 4), (5, 5), (5, 6), (5, 7), (6, 1), (6, 2), (6, 3), (6, 4), (6, 5), (6, 6), (6, 7), (7, 1), (7, 2), (7, 3), (7, 4), (7, 5), (7, 6), (7, 7)]\n",
      "[(1, 1), (1, 2), (1, 3), (1, 4), (1, 5), (1, 6), (2, 1), (2, 2), (2, 3), (2, 4), (2, 5), (2, 6), (3, 1), (3, 2), (3, 3), (3, 4), (3, 5), (3, 6), (4, 1), (4, 2), (4, 3), (4, 4), (4, 5), (4, 6), (5, 1), (5, 2), (5, 3), (5, 4), (5, 5), (5, 6), (6, 1), (6, 2), (6, 3), (6, 4), (6, 5), (6, 6)]\n",
      "[(1, 1), (1, 2), (1, 3), (1, 4), (1, 5), (2, 1), (2, 2), (2, 3), (2, 4), (2, 5), (3, 1), (3, 2), (3, 3), (3, 4), (3, 5), (4, 1), (4, 2), (4, 3), (4, 4), (4, 5), (5, 1), (5, 2), (5, 3), (5, 4), (5, 5)]\n",
      "[(1, 1), (1, 2), (1, 3), (1, 4), (2, 1), (2, 2), (2, 3), (2, 4), (3, 1), (3, 2), (3, 3), (3, 4), (4, 1), (4, 2), (4, 3), (4, 4)]\n",
      "[(1, 1), (1, 2), (1, 3), (2, 1), (2, 2), (2, 3), (3, 1), (3, 2), (3, 3)]\n",
      "[(1, 1), (1, 2), (2, 1), (2, 2)]\n",
      "8\n"
     ]
    }
   ],
   "source": [
    "from itertools import product\n",
    "\n",
    "def find_good(array,n):\n",
    "    dp = [0] * n\n",
    "\n",
    "    for i in range(n-1, 1, -1):\n",
    "        \n",
    "        samples= list(product(array[0:i], repeat=2))\n",
    "        print(samples)\n",
    "        for sample in samples:\n",
    "\n",
    "            if sample[0] + sample[1] == array[i]:\n",
    "                dp[i] =1 \n",
    "        \n",
    "    return sum(dp)\n",
    "\n",
    "print(find_good(array,n))"
   ]
  },
  {
   "cell_type": "code",
   "execution_count": null,
   "metadata": {},
   "outputs": [],
   "source": []
  },
  {
   "cell_type": "code",
   "execution_count": 7,
   "metadata": {},
   "outputs": [
    {
     "name": "stdout",
     "output_type": "stream",
     "text": [
      "15\n"
     ]
    }
   ],
   "source": [
    "## 이진 탐색으로 구현하기\n",
    "n , m = [2, 6]\n",
    "array = [19,14,3,17]\n",
    "\n",
    "start = 0\n",
    "end = max(array)\n",
    "\n",
    "result = 0 \n",
    "while (start <= end):\n",
    "    total = 0\n",
    "    mid = (start + end) // 2\n",
    "    for x in array:\n",
    "        if x > mid:\n",
    "            total += x - mid\n",
    "    if total < m:\n",
    "        end = mid - 1\n",
    "    else:\n",
    "        result = mid\n",
    "        start = mid + 1\n",
    "\n",
    "print(result)                        \n"
   ]
  },
  {
   "cell_type": "code",
   "execution_count": null,
   "metadata": {},
   "outputs": [],
   "source": []
  }
 ],
 "metadata": {
  "kernelspec": {
   "display_name": "base",
   "language": "python",
   "name": "python3"
  },
  "language_info": {
   "codemirror_mode": {
    "name": "ipython",
    "version": 3
   },
   "file_extension": ".py",
   "mimetype": "text/x-python",
   "name": "python",
   "nbconvert_exporter": "python",
   "pygments_lexer": "ipython3",
   "version": "3.10.9"
  },
  "orig_nbformat": 4
 },
 "nbformat": 4,
 "nbformat_minor": 2
}
