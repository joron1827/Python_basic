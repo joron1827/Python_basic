{
 "cells": [
  {
   "cell_type": "markdown",
   "metadata": {},
   "source": [
    "## 이진 탐색\n",
    "\n",
    "* 리스트 내 데이터를 빠르게 탐색하는 이진 탐색 알고리즘\n",
    "* 내부의 데이터가 정렬되어 있어야 사용할 수 있다.\n",
    "* 한번 확인할 때 마다 원소의 개수가 줄어서 O(logN)이다\n"
   ]
  },
  {
   "cell_type": "code",
   "execution_count": 1,
   "metadata": {},
   "outputs": [],
   "source": [
    "## 이진 탐색 재귀 함수로 구현\n",
    "\n",
    "def binary_search(array, target, start, end):\n",
    "    if start > end:\n",
    "        return None\n",
    "    mid = (start + end) // 2\n",
    "\n",
    "    if array[mid] == target:\n",
    "        return mid\n",
    "    \n",
    "    elif array[mid] > target:\n",
    "        return binary_search(array, target, start, mid -1)\n",
    "    \n",
    "    else:\n",
    "        return binary_search(array, target, mid+1, end)   \n",
    "    \n"
   ]
  },
  {
   "cell_type": "code",
   "execution_count": 2,
   "metadata": {},
   "outputs": [],
   "source": [
    "## 이진 탐색 반복문으로 구현\n",
    "\n",
    "def binary_search_recursive(array, target, start, end):\n",
    "    while start <= end:\n",
    "        mid = (start + end) // 2\n",
    "        if array[mid] == target:\n",
    "            return mid\n",
    "        elif array[mid] > target:\n",
    "            end = mid - 1\n",
    "        else:\n",
    "            start = mid + 1\n",
    "    return None\n"
   ]
  },
  {
   "cell_type": "markdown",
   "metadata": {},
   "source": [
    "## 떡볶이 떡 만들기\n",
    "\n",
    "* 절단기에 높이를 지정하면 줄지어진 떡을 한번에 절단\n",
    "* 높이가 H 보다 긴 떡은 잘리며 부분 조각이 남음\n",
    "* 19, 14, 10, 17cm 인 떡있을 때 높이가 15이면 떡 길이는 4, 0, 0, 2cm 이다. 손님은 6cm를 가져간다\n",
    "* 요청한 떡의 총 길이가 M 일때 떡을 얻기 위해 설정할 수 있는 절단기의 최대값을 구하시오"
   ]
  },
  {
   "cell_type": "code",
   "execution_count": 5,
   "metadata": {},
   "outputs": [
    {
     "name": "stdout",
     "output_type": "stream",
     "text": [
      "(15, 2, 6)\n"
     ]
    }
   ],
   "source": [
    "n, m = list(map(int, input().split(' '))) # 요청한 떡 개수와 총 길이\n",
    "array = list(map(int, input().split()))\n",
    "\n",
    "def search_height(array, h):\n",
    "    ricecake = []\n",
    "    for tmp in array:\n",
    "        peice = tmp - h\n",
    "        if peice >= 0:\n",
    "            ricecake.append(peice)\n",
    "        else:\n",
    "            ricecake.append(0)\n",
    "    return ricecake\n",
    "\n",
    "def cut_rice_cake(array,n,m):\n",
    "\n",
    "    array.sort(reverse=True)\n",
    "    height = max(array)\n",
    "    while True:\n",
    "        sample = search_height(array,height)\n",
    "        count = len(list(filter(lambda x: x!=0, array)))\n",
    "        if sum(sample) == m: return height, n, m\n",
    "        else:\n",
    "            height -= 1\n",
    "        if height == 0:\n",
    "            return None\n",
    "\n",
    "print(cut_rice_cake(array,n,m))\n"
   ]
  },
  {
   "cell_type": "code",
   "execution_count": 7,
   "metadata": {},
   "outputs": [
    {
     "name": "stdout",
     "output_type": "stream",
     "text": [
      "15\n"
     ]
    }
   ],
   "source": [
    "## 이진 탐색으로 구현하기\n",
    "n , m = [2, 6]\n",
    "array = [19,14,3,17]\n",
    "\n",
    "start = 0\n",
    "end = max(array)\n",
    "\n",
    "result = 0 \n",
    "while (start <= end):\n",
    "    total = 0\n",
    "    mid = (start + end) // 2\n",
    "    for x in array:\n",
    "        if x > mid:\n",
    "            total += x - mid\n",
    "    if total < m:\n",
    "        end = mid - 1\n",
    "    else:\n",
    "        result = mid\n",
    "        start = mid + 1\n",
    "\n",
    "print(result)                        \n"
   ]
  },
  {
   "cell_type": "code",
   "execution_count": null,
   "metadata": {},
   "outputs": [],
   "source": []
  }
 ],
 "metadata": {
  "kernelspec": {
   "display_name": "base",
   "language": "python",
   "name": "python3"
  },
  "language_info": {
   "codemirror_mode": {
    "name": "ipython",
    "version": 3
   },
   "file_extension": ".py",
   "mimetype": "text/x-python",
   "name": "python",
   "nbconvert_exporter": "python",
   "pygments_lexer": "ipython3",
   "version": "3.10.9"
  },
  "orig_nbformat": 4
 },
 "nbformat": 4,
 "nbformat_minor": 2
}
