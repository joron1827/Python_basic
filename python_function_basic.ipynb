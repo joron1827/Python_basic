{
 "cells": [
  {
   "attachments": {},
   "cell_type": "markdown",
   "metadata": {},
   "source": [
    "# 함수(Function)\n",
    "\n",
    "* 함수 안에서 정의한 변수는 지역 변수\n",
    "* 스코핑 룰 혹은 LGB 룰에 의해 변수를 탐색\n",
    "    * 지역, 전역, 내장 영역 순서\n",
    "\n",
    "* 동일한 변수 명을 사용하면 스코핑룰에 의해 따라 변수가 선택됨"
   ]
  },
  {
   "cell_type": "code",
   "execution_count": 1,
   "metadata": {},
   "outputs": [],
   "source": [
    "a = 5 # 전역 변수\n",
    "def func1():\n",
    "    a = 1 # 지역 변수. func1()에서만 사용\n",
    "    print(\"[func1] 지역 변수 a =\", a)\n",
    "def func2():\n",
    "    a = 2 # 지역 변수. func2()에서만 사용\n",
    "    print(\"[func2] 지역 변수 a =\", a)\n",
    "def func3():\n",
    "    print(\"[func3] 전역 변수 a =\", a)\n",
    "def func4():\n",
    "    global a # 함수 내에서 전역 변수를 변경하기 위해 선언\n",
    "    a = 4 # 전역 변수의 값 변경\n",
    "    print(\"[func4] 전역 변수 a =\",a) "
   ]
  },
  {
   "cell_type": "code",
   "execution_count": 3,
   "metadata": {},
   "outputs": [
    {
     "name": "stdout",
     "output_type": "stream",
     "text": [
      "[func4] 전역 변수 a = 4\n",
      "4\n"
     ]
    }
   ],
   "source": [
    "func4()\n",
    "print(a)"
   ]
  },
  {
   "attachments": {},
   "cell_type": "markdown",
   "metadata": {},
   "source": [
    "# 람다(lambda) 함수\n",
    "\n",
    "* lambda <인자> : <인자 활용 수행코드> (<인자>)\n",
    "* lambda_function = lambda <인자> : <인자 활용 수행 코드>\n",
    "* lambda_function(<인자>)"
   ]
  },
  {
   "cell_type": "code",
   "execution_count": 6,
   "metadata": {},
   "outputs": [
    {
     "name": "stdout",
     "output_type": "stream",
     "text": [
      "mySquare: 4\n",
      "mySimpleFunc: 11\n"
     ]
    }
   ],
   "source": [
    "mySquare  = lambda x : x**2\n",
    "\n",
    "print(\"mySquare:\",mySquare(2))\n",
    "\n",
    "mySimpleFunc = lambda x,y,z : 2*x + 3*y + z\n",
    "print(\"mySimpleFunc:\", mySimpleFunc(1,2,3))"
   ]
  },
  {
   "attachments": {},
   "cell_type": "markdown",
   "metadata": {},
   "source": [
    "# 유용한 내장 함수\n",
    "### type cast\n",
    "* int()\n",
    "* float()\n",
    "* str()\n",
    "* list, tuple(), set()\n",
    "\n",
    "### bool()\n",
    "* 0이면 false, 아니면 True\n",
    "* 문자열이 있으면 True, 아니면 False\n",
    "\n",
    "### min(), max(), abs(), sum()"
   ]
  },
  {
   "cell_type": "code",
   "execution_count": 16,
   "metadata": {},
   "outputs": [
    {
     "name": "stdout",
     "output_type": "stream",
     "text": [
      "총점:350, 평균:87.5\n"
     ]
    }
   ],
   "source": [
    "scores = [90, 80, 95, 85] # 과목별 시험 점수\n",
    "print(\"총점:{0}, 평균:{1}\".format(sum(scores), sum(scores)/len(scores))) \n"
   ]
  },
  {
   "attachments": {},
   "cell_type": "markdown",
   "metadata": {},
   "source": [
    "## 파이썬 함수 자료형 지정\n",
    "---\n",
    "\n",
    "* 메소드의 파라미터의 자료형을 지정할 수 있다.\n",
    "* 메소드의 return 타입도 지정가능하다"
   ]
  },
  {
   "cell_type": "code",
   "execution_count": 1,
   "metadata": {},
   "outputs": [],
   "source": [
    "class test_class():\n",
    "    def method1(self):\n",
    "        print(\"클래스 메소드 1 실행\")\n",
    "\n",
    "def test_fun(input1:test_class):\n",
    "    input1.method1()"
   ]
  },
  {
   "cell_type": "code",
   "execution_count": null,
   "metadata": {},
   "outputs": [],
   "source": [
    "def fun1() -> str :\n",
    "\treturn \"output\""
   ]
  }
 ],
 "metadata": {
  "kernelspec": {
   "display_name": "Python 3",
   "language": "python",
   "name": "python3"
  },
  "language_info": {
   "codemirror_mode": {
    "name": "ipython",
    "version": 3
   },
   "file_extension": ".py",
   "mimetype": "text/x-python",
   "name": "python",
   "nbconvert_exporter": "python",
   "pygments_lexer": "ipython3",
   "version": "3.11.4"
  },
  "orig_nbformat": 4
 },
 "nbformat": 4,
 "nbformat_minor": 2
}
