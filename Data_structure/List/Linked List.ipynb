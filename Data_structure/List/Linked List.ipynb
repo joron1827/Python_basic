{
 "cells": [
  {
   "cell_type": "markdown",
   "metadata": {},
   "source": [
    "## 파이썬으로 연결 리스트 구현\n",
    "\n",
    "### 연결 리스트의 특징\n",
    "* 동적 배열이다.\n",
    "* 삽입과 삭제가 쉽다\n",
    "* 스택,큐 등의 자료 구조를 만들 때 사용한다."
   ]
  },
  {
   "cell_type": "code",
   "execution_count": 1,
   "metadata": {},
   "outputs": [],
   "source": [
    "## 노드 클래스 구현\n",
    "\n",
    "class Node:\n",
    "    def __init__(self, data):\n",
    "        self.data = data\n",
    "        self.next = None"
   ]
  },
  {
   "cell_type": "code",
   "execution_count": 2,
   "metadata": {},
   "outputs": [],
   "source": [
    "## 연결 리스트의 끝에 노드 추가하기\n",
    "\n",
    "head = Node(1)\n",
    "head.next = Node(2)\n",
    "head.next.next = Node(3)\n",
    "\n",
    "node  = head\n",
    "\n",
    "while node:\n",
    "    if node.next is None:\n",
    "        none.next = Node(4)\n",
    "        break\n",
    "    node = node.next # 다음 노드가 비어있지 않을 때"
   ]
  },
  {
   "cell_type": "code",
   "execution_count": 3,
   "metadata": {},
   "outputs": [],
   "source": [
    "# 연결 리스트 처음에 노드 추가하기\n",
    "node = Node(0)\n",
    "node.next = head\n",
    "head = node"
   ]
  },
  {
   "cell_type": "markdown",
   "metadata": {},
   "source": [
    "## 연결 리스트의 클래스 구성하기\n",
    "\n",
    "* appendleft(x): 연결 리스트 처음에 x 추가하기\n",
    "* append(x): 연결 리스트 끝에 x 추가하기\n",
    "* display(): 노드를 모두 출력하기\n",
    "* search(x): x 값이 있는지 검색하기\n",
    "* popleft(): 첫 노드를 삭제하고 값을 반환하기\n",
    "* pop(): 마지막 노드를 삭제하고 값을 반환하기\n",
    "* insert(i, x): 인덱스 i에 x 추가하기\n",
    "* remove(x): x를 삭제하기"
   ]
  },
  {
   "cell_type": "code",
   "execution_count": null,
   "metadata": {},
   "outputs": [],
   "source": [
    "class Node:\n",
    "    def __init__(self,data):\n",
    "        self.data = data\n",
    "        self.next = None\n",
    "\n",
    "class Linked_list:\n",
    "    def __init__(self):\n",
    "        self.head = None\n",
    "        self.length = 0\n",
    "    \n",
    "    def __len__(self):\n",
    "        return self.length # 클래스 내부에 __len__ 메서드를 만들고, len 함수로 객체 길이 반환 가능"
   ]
  },
  {
   "cell_type": "markdown",
   "metadata": {},
   "source": [
    "### appendleft(x), append(x) 구현"
   ]
  },
  {
   "cell_type": "code",
   "execution_count": 3,
   "metadata": {},
   "outputs": [],
   "source": [
    "class Node:\n",
    "    def __init__(self,data):\n",
    "        self.data = data\n",
    "        self.next = None\n",
    "\n",
    "class Linked_list:\n",
    "    def __init__(self):\n",
    "        self.head = None\n",
    "        self.length = 0\n",
    "    \n",
    "    def __len__(self):\n",
    "        return self.length\n",
    "    \n",
    "    def appendleft(self,data):\n",
    "        node = Node(data)\n",
    "        if self.head is None:\n",
    "            self.head = node\n",
    "        else:\n",
    "            node.next = self.head\n",
    "            self.head = node\n",
    "        self.length += 1\n",
    "        \n",
    "    def append(self, data):\n",
    "        node = Node(data)\n",
    "        if self.head is None:\n",
    "            self.head = node\n",
    "        else:\n",
    "            prev = self.head\n",
    "            while prev.next:\n",
    "                prev = prev.next\n",
    "            prev.next = node\n",
    "        self.length += 1\n",
    "        \n",
    "    "
   ]
  },
  {
   "cell_type": "code",
   "execution_count": 4,
   "metadata": {},
   "outputs": [],
   "source": [
    "mylist = Linked_list()\n",
    "mylist.append(\"a\")\n",
    "mylist.append(\"b\")"
   ]
  },
  {
   "cell_type": "markdown",
   "metadata": {},
   "source": [
    "## display(), `__str__` 구현"
   ]
  },
  {
   "cell_type": "code",
   "execution_count": 7,
   "metadata": {},
   "outputs": [],
   "source": [
    "class Node:\n",
    "    def __init__(self,data):\n",
    "        self.data = data\n",
    "        self.next = None\n",
    "\n",
    "class Linked_list:\n",
    "    def __init__(self):\n",
    "        self.head = None\n",
    "        self.length = 0\n",
    "\n",
    "    def __len__(self):\n",
    "        return self.length\n",
    "    \n",
    "    def appendleft(self,data):\n",
    "        node = Node(data)\n",
    "        if self.head is None:\n",
    "            self.head = node\n",
    "        else:\n",
    "            node.next = self.head\n",
    "            self.head = node\n",
    "        self.length += 1\n",
    "        \n",
    "    def append(self, data):\n",
    "        node = Node(data)\n",
    "        if self.head is None:\n",
    "            self.head = node\n",
    "        else:\n",
    "            prev = self.head\n",
    "            while prev.next:\n",
    "                prev = prev.next\n",
    "            prev.next = node\n",
    "        self.length += 1\n",
    "\n",
    "    def display(self):\n",
    "        if self.head is None:\n",
    "            print(\"Empty list\")\n",
    "        else:\n",
    "            node = self.head\n",
    "            while node.next:\n",
    "                print(node.data, end = \" -> \")\n",
    "                node = node.next\n",
    "            print(node.data)"
   ]
  },
  {
   "cell_type": "code",
   "execution_count": 8,
   "metadata": {},
   "outputs": [
    {
     "name": "stdout",
     "output_type": "stream",
     "text": [
      "Empty list\n",
      "1\n",
      "1 -> 2\n",
      "3 -> 1 -> 2\n",
      "3 -> 1 -> 2 -> 4\n"
     ]
    }
   ],
   "source": [
    "mylist = Linked_list()\n",
    "\n",
    "for data in (1, 2, 3, 4):\n",
    "    mylist.display()\n",
    "    if data % 2: #홀수는 앞에 추가\n",
    "        mylist.appendleft(data)\n",
    "    else: #짝수는 뒤에 추가\n",
    "        mylist.append(data)\n",
    "\n",
    "mylist.display()"
   ]
  },
  {
   "cell_type": "code",
   "execution_count": 9,
   "metadata": {},
   "outputs": [],
   "source": [
    "## object.str(self)\n",
    "\n",
    "## str(object) 와 내장 함수 format(), print() 에 의해 호출되어 객체의 “비형식적인(informal)” 또는 보기 좋게 인쇄 가능한 문자열 표현을 계산합니다.\n",
    "## 반환 값은 반드시 문자열 객체여야 합니다.\n",
    "\n",
    "class Linked_list_str(Linked_list):\n",
    "\n",
    "    def __str__(self):\n",
    "        if self.head is None:\n",
    "            return \"Empty List\"\n",
    "        node = self.head\n",
    "        string = \"\"\n",
    "        while node.next:\n",
    "            string += str(node.data) + \" -> \"\n",
    "            node = node.next\n",
    "        return string + str(node.data)"
   ]
  },
  {
   "cell_type": "code",
   "execution_count": 10,
   "metadata": {},
   "outputs": [
    {
     "name": "stdout",
     "output_type": "stream",
     "text": [
      "Empty List\n",
      "1\n",
      "1 -> 2\n",
      "3 -> 1 -> 2\n",
      "3 -> 1 -> 2 -> 4\n"
     ]
    }
   ],
   "source": [
    "mylist = Linked_list_str()\n",
    "\n",
    "for data in (1, 2, 3, 4):\n",
    "    print(mylist)\n",
    "    if data % 2: #홀수는 앞에 추가\n",
    "        mylist.appendleft(data)\n",
    "    else: #짝수는 뒤에 추가\n",
    "        mylist.append(data)\n",
    "\n",
    "print(mylist)"
   ]
  }
 ],
 "metadata": {
  "kernelspec": {
   "display_name": "Python 3",
   "language": "python",
   "name": "python3"
  },
  "language_info": {
   "codemirror_mode": {
    "name": "ipython",
    "version": 3
   },
   "file_extension": ".py",
   "mimetype": "text/x-python",
   "name": "python",
   "nbconvert_exporter": "python",
   "pygments_lexer": "ipython3",
   "version": "3.10.9"
  },
  "orig_nbformat": 4
 },
 "nbformat": 4,
 "nbformat_minor": 2
}
