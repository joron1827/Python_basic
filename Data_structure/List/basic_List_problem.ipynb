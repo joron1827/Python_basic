{
 "cells": [
  {
   "cell_type": "markdown",
   "metadata": {},
   "source": [
    "## 회문 찾기\n",
    "\n",
    "앞으로 읽어도, 뒤로 읽어도 같은 단어(회문)인지 검사하는 함수를 만들자"
   ]
  },
  {
   "cell_type": "code",
   "execution_count": 2,
   "metadata": {},
   "outputs": [
    {
     "name": "stdout",
     "output_type": "stream",
     "text": [
      "True\n",
      "racecar\n"
     ]
    }
   ],
   "source": [
    "## 문자열의 슬라이싱을 이용\n",
    "\n",
    "word = \"racecar\"\n",
    "\n",
    "if word == word[::-1]:\n",
    "    print(True)\n",
    "else:\n",
    "    print(False)\n",
    "\n"
   ]
  },
  {
   "cell_type": "code",
   "execution_count": 1,
   "metadata": {},
   "outputs": [],
   "source": [
    "## 포인터 두 개를 이용하기\n",
    "##포인터를 두 개를 만들고, 양쪽 끝에서 이동하면서 인덱스의 글자와 비교\n",
    "\n",
    "def is_palindrome(word):\n",
    "    left, right = 0, len(word)-1\n",
    "    while left < right:\n",
    "        if word[left] != word[right]:\n",
    "            return False\n",
    "        left, right = left + 1, right - 1\n",
    "    return True"
   ]
  },
  {
   "cell_type": "code",
   "execution_count": 2,
   "metadata": {},
   "outputs": [
    {
     "data": {
      "text/plain": [
       "True"
      ]
     },
     "execution_count": 2,
     "metadata": {},
     "output_type": "execute_result"
    }
   ],
   "source": [
    "is_palindrome(\"racecar\")"
   ]
  },
  {
   "cell_type": "code",
   "execution_count": 3,
   "metadata": {},
   "outputs": [
    {
     "data": {
      "text/plain": [
       "True"
      ]
     },
     "execution_count": 3,
     "metadata": {},
     "output_type": "execute_result"
    }
   ],
   "source": [
    "is_palindrome(\"rotor\")"
   ]
  },
  {
   "cell_type": "code",
   "execution_count": 4,
   "metadata": {},
   "outputs": [
    {
     "data": {
      "text/plain": [
       "True"
      ]
     },
     "execution_count": 4,
     "metadata": {},
     "output_type": "execute_result"
    }
   ],
   "source": [
    "is_palindrome(\"토마토\")"
   ]
  },
  {
   "cell_type": "markdown",
   "metadata": {},
   "source": [
    "## 0과 1로 구성된 배열을 정렬하기"
   ]
  },
  {
   "cell_type": "code",
   "execution_count": 5,
   "metadata": {},
   "outputs": [
    {
     "name": "stdout",
     "output_type": "stream",
     "text": [
      "[0, 0, 0, 0, 0, 1, 1, 1, 1]\n",
      "[0, 0, 1, 1]\n"
     ]
    }
   ],
   "source": [
    "### count 메서드 이용하기\n",
    "# 0과 1로만 이뤄져 있으므로, count() 메서드를 이용하여 개수를 센 후에 채우기\n",
    "\n",
    "def bin_array_sort(arr):\n",
    "    arr[:] = [0] * arr.count(0) + [1] * arr.count(1)\n",
    "    \n",
    "for arr in ([1,0,1,1,0,0,0,1,0], [0,0,1,1]):\n",
    "    bin_array_sort(arr)\n",
    "    print(arr)"
   ]
  },
  {
   "cell_type": "code",
   "execution_count": 14,
   "metadata": {},
   "outputs": [],
   "source": [
    "### 포인터 두 개를 이용하기\n",
    "\n",
    "def bin_array_sort(arr):\n",
    "    left, right = 0, len(arr)-1\n",
    "    while left < right:\n",
    "        if arr[left] == 1 and arr[right] == 0:\n",
    "            arr[left], arr[right] = arr[right], arr[left]\n",
    "            left , right = left + 1, right -1\n",
    "        if arr[left] != 1:\n",
    "            left += 1\n",
    "        if arr[right] != 0:\n",
    "            right -= 1\n",
    "    return arr"
   ]
  },
  {
   "cell_type": "code",
   "execution_count": 15,
   "metadata": {},
   "outputs": [
    {
     "name": "stdout",
     "output_type": "stream",
     "text": [
      "[0, 0, 0, 0, 0, 1, 1, 1, 1]\n",
      "[0, 0, 1, 1]\n"
     ]
    }
   ],
   "source": [
    "for arr in ([1,0,1,1,0,0,0,1,0], [0,0,1,1]):\n",
    "    bin_array_sort(arr)\n",
    "    print(arr)"
   ]
  },
  {
   "cell_type": "markdown",
   "metadata": {},
   "source": [
    "## 제시된 합을 가진 부분 배열 찾기\n",
    "정렬되지 않은 양의 정수로 이루어진 배열 A가 있다. 연속된 원소를 더한 값이 제시된 값 S와 같은 부분 배열을 찾아라. (인덱스 기준은 1이다.)\n",
    "\n",
    "입력: arr = [1, 2, 3, 7, 5], s = 12, 출력: [2, 4]\n",
    "\n",
    "인덱스 2부터 4까지의 합: 2 + 3 + 7 = 12\n",
    "\n",
    "입력: arr = [1, 2, 3, 4, 5, 6, 7, 8, 9, 10], s = 15, 출력: [1, 5]"
   ]
  },
  {
   "cell_type": "code",
   "execution_count": 16,
   "metadata": {},
   "outputs": [
    {
     "name": "stdout",
     "output_type": "stream",
     "text": [
      "[2, 4]\n",
      "[1, 5]\n"
     ]
    }
   ],
   "source": [
    "## 이중 반복문으로 풀기\n",
    "\n",
    "def find_sub_array(arr,s):\n",
    "    for i in range(len(arr)):\n",
    "        sub_total = 0\n",
    "        for j in range(i, len(arr)):\n",
    "            sub_total += arr[j]\n",
    "            if sub_total == s:\n",
    "                return [i+1,j+1]\n",
    "    return [-1]\n",
    "\n",
    "sample1 = ([1, 2, 3, 7, 5], 12)\n",
    "sample2 = ([1, 2, 3, 4, 5, 6, 7, 8, 9, 10], 15)\n",
    "for arr, s in (sample1, sample2):\n",
    "    print(find_sub_array(arr, s))"
   ]
  },
  {
   "cell_type": "code",
   "execution_count": 17,
   "metadata": {},
   "outputs": [],
   "source": [
    "## 포인터 두 개를 이용하기\n",
    "\n",
    "def find_sub_array(arr, s):\n",
    "    left, sub_total = 0, 0\n",
    "    for right in range(len(arr)):\n",
    "        sub_total += arr[right]\n",
    "        while left < right and sub_total > s:\n",
    "            sub_total -= arr[left]\n",
    "            left += 1\n",
    "        if sub_total == s:\n",
    "            return [left+1, right+1]\n",
    "    return [-1]"
   ]
  },
  {
   "cell_type": "code",
   "execution_count": 18,
   "metadata": {},
   "outputs": [
    {
     "name": "stdout",
     "output_type": "stream",
     "text": [
      "[2, 4]\n",
      "[1, 5]\n",
      "[-1]\n"
     ]
    }
   ],
   "source": [
    "print(find_sub_array([1, 2, 3, 7, 5], 12))\n",
    "print(find_sub_array([1, 2, 3, 4, 5, 6, 7, 8, 9, 10], 15))\n",
    "print(find_sub_array([1, 2, 3, 4], 0))"
   ]
  }
 ],
 "metadata": {
  "kernelspec": {
   "display_name": "base",
   "language": "python",
   "name": "python3"
  },
  "language_info": {
   "codemirror_mode": {
    "name": "ipython",
    "version": 3
   },
   "file_extension": ".py",
   "mimetype": "text/x-python",
   "name": "python",
   "nbconvert_exporter": "python",
   "pygments_lexer": "ipython3",
   "version": "3.11.4"
  },
  "orig_nbformat": 4
 },
 "nbformat": 4,
 "nbformat_minor": 2
}
