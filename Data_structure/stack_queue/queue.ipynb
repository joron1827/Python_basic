{
 "cells": [
  {
   "cell_type": "code",
   "execution_count": 1,
   "metadata": {},
   "outputs": [
    {
     "name": "stdout",
     "output_type": "stream",
     "text": [
      "Enqueue data = A\n",
      "Enqueue data = B\n",
      "Enqueue data = C\n",
      "\n",
      "Dequeue data = A\n",
      "Dequeue data = B\n",
      "Dequeue data = C\n"
     ]
    }
   ],
   "source": [
    "## Queue 클래스 정의하기\n",
    "\n",
    "class Node:\n",
    "    def __init__(self,data):\n",
    "        self.data = data\n",
    "        self.next = None\n",
    "\n",
    "class Queue:\n",
    "    def __init__(self):\n",
    "        self.front = None\n",
    "        self.rear = None\n",
    "        \n",
    "    def enqueue(self,data):\n",
    "        node = Node(data)\n",
    "        if self.front is None:\n",
    "            self.front = self.rear = node\n",
    "        else:\n",
    "            self.rear.next = node\n",
    "            self.rear = node\n",
    "    \n",
    "    def dequeue(self):\n",
    "        if self.front is None:\n",
    "            return None\n",
    "        node = self.front\n",
    "        if self.front == self.rear:\n",
    "            self.front = self.rear = None\n",
    "        else:\n",
    "            self.front = self.front.next\n",
    "        return node.data\n",
    "    \n",
    "    def is_empty(self):\n",
    "        return self.front is None\n",
    "    \n",
    "    \n",
    "if __name__ == \"__main__\":\n",
    "    q = Queue()\n",
    "    \n",
    "    for i in range(3):\n",
    "        q.enqueue(chr(ord(\"A\") + i))\n",
    "        print(f\"Enqueue data = {q.rear.data}\")\n",
    "    print()\n",
    "\n",
    "    while not q.is_empty():\n",
    "        print(f\"Dequeue data = {q.dequeue()}\")"
   ]
  },
  {
   "cell_type": "code",
   "execution_count": null,
   "metadata": {},
   "outputs": [],
   "source": []
  }
 ],
 "metadata": {
  "kernelspec": {
   "display_name": "Python 3",
   "language": "python",
   "name": "python3"
  },
  "language_info": {
   "codemirror_mode": {
    "name": "ipython",
    "version": 3
   },
   "file_extension": ".py",
   "mimetype": "text/x-python",
   "name": "python",
   "nbconvert_exporter": "python",
   "pygments_lexer": "ipython3",
   "version": "3.11.4"
  },
  "orig_nbformat": 4
 },
 "nbformat": 4,
 "nbformat_minor": 2
}
