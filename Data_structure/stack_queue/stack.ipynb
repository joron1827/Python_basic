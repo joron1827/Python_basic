{
 "cells": [
  {
   "cell_type": "code",
   "execution_count": 1,
   "metadata": {},
   "outputs": [
    {
     "name": "stdout",
     "output_type": "stream",
     "text": [
      "Push data = A\n",
      "Push data = B\n",
      "Push data = C\n",
      "\n",
      "Pop data = C\n",
      "Pop data = B\n",
      "Pop data = A\n",
      "\n",
      "Peek data = None\n"
     ]
    }
   ],
   "source": [
    "## Stack 클래스 만들기\n",
    "\n",
    "class Node:\n",
    "    def __init__(self, data):\n",
    "        self.data = data\n",
    "        self.next = None\n",
    "\n",
    "class Stack:\n",
    "    def __init__(self):\n",
    "        self.top = None\n",
    "    \n",
    "    def push(self, data):\n",
    "        node = Node(data)\n",
    "        if self.top == None:\n",
    "            self.top = node\n",
    "        else:\n",
    "            node.next = self.top\n",
    "            self.top = node\n",
    "    \n",
    "    def pop(self):\n",
    "        if self.top is None:\n",
    "            return None\n",
    "        node = self.top\n",
    "        self.top = node.next\n",
    "        return node.data\n",
    "\n",
    "    def peek(self):\n",
    "        if self.top is None:\n",
    "            return None\n",
    "        return self.top.data\n",
    "    \n",
    "    def is_empty(self):\n",
    "        return self.top is None\n",
    "\n",
    "if __name__ == \"__main__\":\n",
    "    s = Stack()\n",
    "\n",
    "    for i in range(3):\n",
    "        s.push(chr(ord(\"A\")+i))\n",
    "        print(f\"Push data = {s.peek()}\")\n",
    "    print()\n",
    "\n",
    "    while not s.is_empty():\n",
    "        print(f\"Pop data = {s.pop()}\")\n",
    "    print()\n",
    "\n",
    "    print(f\"Peek data = {s.peek()}\")"
   ]
  },
  {
   "cell_type": "code",
   "execution_count": 2,
   "metadata": {},
   "outputs": [
    {
     "name": "stdout",
     "output_type": "stream",
     "text": [
      "True\n",
      "False\n"
     ]
    }
   ],
   "source": [
    "## 괄호 짝이 맞는지 확인하기\n",
    "\n",
    "def check_bracket(expression):\n",
    "    s = Stack()\n",
    "    for exp in expression:\n",
    "        if exp == \"(\":\n",
    "            s.push(exp)\n",
    "        elif exp == \")\":\n",
    "            if not s.pop():\n",
    "                return False\n",
    "    return True if s.is_empty() else False\n",
    "\n",
    "print(check_bracket(\"((a * (b + c)) - d) / e\"))\n",
    "print(check_bracket(\"(((a * (b + c)) - d) / e\"))\n"
   ]
  },
  {
   "cell_type": "code",
   "execution_count": 10,
   "metadata": {},
   "outputs": [],
   "source": [
    "## 후위 표기법 구현하기\n",
    "\n",
    "def to_postfix(expression):\n",
    "    op = {\"+\": 1, \"-\": 1, \"*\": 2, \"/\": 2}\n",
    "    res = \"\"\n",
    "    s = Stack()\n",
    "    \n",
    "    for exp in expression:\n",
    "        if exp.isnumeric():\n",
    "            res += exp\n",
    "        elif exp in op:\n",
    "            if not s.is_empty() and (op[exp] <= op[s.peek()]):\n",
    "                res += s.pop()\n",
    "            s.push(exp)\n",
    "    while not s.is_empty():\n",
    "        res += s.pop()\n",
    "    return res"
   ]
  },
  {
   "cell_type": "code",
   "execution_count": 11,
   "metadata": {},
   "outputs": [
    {
     "name": "stdout",
     "output_type": "stream",
     "text": [
      "352*2-+\n",
      "35+2-\n"
     ]
    }
   ],
   "source": [
    "print(to_postfix(\"3 + 5 * 2 - 2\"))\n",
    "print(to_postfix(\"3 + 5 - 2\"))"
   ]
  },
  {
   "cell_type": "code",
   "execution_count": null,
   "metadata": {},
   "outputs": [],
   "source": []
  }
 ],
 "metadata": {
  "kernelspec": {
   "display_name": "base",
   "language": "python",
   "name": "python3"
  },
  "language_info": {
   "codemirror_mode": {
    "name": "ipython",
    "version": 3
   },
   "file_extension": ".py",
   "mimetype": "text/x-python",
   "name": "python",
   "nbconvert_exporter": "python",
   "pygments_lexer": "ipython3",
   "version": "3.11.4"
  },
  "orig_nbformat": 4
 },
 "nbformat": 4,
 "nbformat_minor": 2
}
