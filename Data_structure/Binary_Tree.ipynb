{
 "cells": [
  {
   "cell_type": "code",
   "execution_count": 1,
   "metadata": {},
   "outputs": [],
   "source": [
    "class BinaryTreeNode:\n",
    "    def __init__(self, data):\n",
    "        self.data = data\n",
    "        self.left = None\n",
    "        self.right = None\n",
    "\n",
    "class Tree:\n",
    "    def __init__(self):\n",
    "        self.root = None\n",
    "\n",
    "    def push(self, data):\n",
    "        if self.root is None:\n",
    "            self.root = BinaryTreeNode(data)\n",
    "        else:\n",
    "            self._push_recursive(data, self.root)\n",
    "\n",
    "    def _push_recursive(self, data, current_node):\n",
    "        if data < current_node.data:\n",
    "            if current_node.left is None:\n",
    "                current_node.left = BinaryTreeNode(data)\n",
    "            else:\n",
    "                self._push_recursive(data, current_node.left)\n",
    "        else:\n",
    "            if current_node.right is None:\n",
    "                current_node.right = BinaryTreeNode(data)\n",
    "            else:\n",
    "                self._push_recursive(data, current_node.right)\n",
    "\n",
    "    def delete(self, data):\n",
    "        self.root = self._delete_recursive(data, self.root)\n",
    "\n",
    "    def _delete_recursive(self, data, current_node):\n",
    "        if current_node is None:\n",
    "            return current_node\n",
    "\n",
    "        if data < current_node.data:\n",
    "            current_node.left = self._delete_recursive(data, current_node.left)\n",
    "        elif data > current_node.data:\n",
    "            current_node.right = self._delete_recursive(data, current_node.right)\n",
    "        else:\n",
    "            if current_node.left is None:\n",
    "                return current_node.right\n",
    "            elif current_node.right is None:\n",
    "                return current_node.left\n",
    "            else:\n",
    "                # 삭제할 노드의 오른쪽 서브트리에서 가장 작은 값을 찾음\n",
    "                min_node = self._find_min(current_node.right)\n",
    "                current_node.data = min_node.data\n",
    "                current_node.right = self._delete_recursive(min_node.data, current_node.right)\n",
    "\n",
    "        return current_node\n",
    "\n",
    "    def _find_min(self, current_node):\n",
    "        while current_node.left is not None:\n",
    "            current_node = current_node.left\n",
    "        return current_node\n"
   ]
  },
  {
   "cell_type": "code",
   "execution_count": null,
   "metadata": {},
   "outputs": [],
   "source": [
    "tree = Tree()\n",
    "tree.push(5)\n",
    "tree.push(3)\n",
    "tree.push(7)\n",
    "tree.push(2)\n",
    "tree.push(4)\n",
    "tree.push(6)\n",
    "tree.push(8)\n",
    "\n"
   ]
  }
 ],
 "metadata": {
  "kernelspec": {
   "display_name": "base",
   "language": "python",
   "name": "python3"
  },
  "language_info": {
   "codemirror_mode": {
    "name": "ipython",
    "version": 3
   },
   "file_extension": ".py",
   "mimetype": "text/x-python",
   "name": "python",
   "nbconvert_exporter": "python",
   "pygments_lexer": "ipython3",
   "version": "3.10.9"
  },
  "orig_nbformat": 4
 },
 "nbformat": 4,
 "nbformat_minor": 2
}
