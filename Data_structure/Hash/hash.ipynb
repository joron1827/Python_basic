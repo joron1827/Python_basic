{
 "cells": [
  {
   "cell_type": "markdown",
   "metadata": {},
   "source": [
    "## 해시 테이블의 기본 원리\n",
    "\n",
    "\n",
    "키(key)\t값(value)\n",
    "\"a\"\t\"apple\"\n",
    "\"b\"\t\"banana\"\n",
    "\"c\"\t\"cherry\"\n",
    "\n",
    "* 해시 함수는 키의 아스키 코드를 테이블의 크기(3)로 나눈 나머지를 구하는 함수라고 하자\n",
    "\n",
    "* “a” → 해시 함수(97 % 3) → 1(인덱스)\n",
    "* “b” → 해시 함수(98 % 3) → 2\n",
    "* “c” → 해시 함수(99 % 3) → 0\n",
    "\n",
    "#### 특징\n",
    "\n",
    "키가 달라도 해시 값이 같을 때가 있는데 이걸 충돌이라고 한다.\n",
    "* 분리 연결법:충돌한 키의 자료를 연결 리스트로 저장\n",
    "* 개방 주소법:충돌할 때 다음 빈자리를 찾아 자료를 저장\n",
    "\n",
    "* 장점 : 검색 읽기 저장이 빠르다, 중복 되는지 확인하기가 쉽다\n",
    "* 단점 : 저장공간이 더 필요하다. 충돌을 해결할 방법이 필요하다."
   ]
  },
  {
   "cell_type": "code",
   "execution_count": 6,
   "metadata": {},
   "outputs": [],
   "source": [
    "class Hash_table:\n",
    "    def __init__(self, length = 5):\n",
    "        self.max_len = length\n",
    "        self.table = [[] for _ in range(self.max_len)]\n",
    "        \n",
    "    def hash(self, key):\n",
    "        res = sum([ord(s) for s in key])\n",
    "        return res % self.max_len\n",
    "    \n",
    "    def set(self, key, value):\n",
    "        index = self.hash(key)\n",
    "        self.table[index].append((key,value))\n",
    "        \n",
    "    def get(self,key):\n",
    "        index = self.hash(key)\n",
    "        value = self.table[index]\n",
    "        if not value:\n",
    "            return None\n",
    "        for v in value:\n",
    "            if v[0] == key:\n",
    "                return v[1]"
   ]
  },
  {
   "cell_type": "code",
   "execution_count": 8,
   "metadata": {},
   "outputs": [
    {
     "name": "stdout",
     "output_type": "stream",
     "text": [
      "해시 테이블의 상태\n",
      "===============\n",
      "0 [('America', 'Washington')]\n",
      "1 []\n",
      "2 [('England', 'London')]\n",
      "3 [('Korea', 'Seoul'), ('China', 'Beijing')]\n",
      "4 [('Türkiye', 'Ankara')]\n",
      "\n",
      "해시 테이블의 검색 결과\n",
      "====================\n",
      "Captial of America = Washington\n",
      "Captial of Korea = Seoul\n",
      "Captial of England = London\n",
      "Captial of China = Beijing\n",
      "Captial of Japan = None\n",
      "Captial of Türkiye = Ankara\n"
     ]
    }
   ],
   "source": [
    "if __name__ == \"__main__\":\n",
    "    capital = Hash_table()\n",
    "    country = [\"Korea\", \"America\", \"China\", \"England\", \"Türkiye\"]\n",
    "    city = [\"Seoul\", \"Washington\", \"Beijing\", \"London\", \"Ankara\"]\n",
    "    for co, ci in zip(country, city):\n",
    "        capital.set(co, ci)\n",
    "\n",
    "    print(\"해시 테이블의 상태\")\n",
    "    print(\"===============\")\n",
    "    for i, v in enumerate(capital.table):\n",
    "        print(i, v)\n",
    "    print()\n",
    "    print(\"해시 테이블의 검색 결과\")\n",
    "    print(\"====================\")\n",
    "    print(f\"Captial of America = {capital.get('America')}\")\n",
    "    print(f\"Captial of Korea = {capital.get('Korea')}\")\n",
    "    print(f\"Captial of England = {capital.get('England')}\")\n",
    "    print(f\"Captial of China = {capital.get('China')}\")\n",
    "    print(f\"Captial of Japan = {capital.get('Japan')}\")\n",
    "    print(f\"Captial of Türkiye = {capital.get('Türkiye')}\")"
   ]
  },
  {
   "cell_type": "code",
   "execution_count": 11,
   "metadata": {},
   "outputs": [
    {
     "name": "stdout",
     "output_type": "stream",
     "text": [
      "해시 테이블의 상태\n",
      "===============\n",
      "0 [('England', 'London')]\n",
      "1 []\n",
      "2 [('America', 'Washington'), ('Türkiye', 'Ankara')]\n",
      "3 [('Korea', 'Seoul')]\n",
      "4 [('China', 'Beijing')]\n",
      "\n",
      "해시 테이블의 검색 결과\n",
      "====================\n",
      "Captial of America = Washington\n",
      "Captial of Korea = Seoul\n",
      "Captial of England = London\n",
      "Captial of China = Beijing\n",
      "Captial of Japan = None\n",
      "Captial of Türkiye = Ankara\n"
     ]
    }
   ],
   "source": [
    "class Hash_table2(Hash_table):\n",
    "    def __init__(self, length = 5):\n",
    "        self.max_len = length\n",
    "        self.table = [[] for _ in range(self.max_len)]\n",
    "        \n",
    "    def hash(self,key):\n",
    "        return hash(key) % self.max_len\n",
    "    \n",
    "if __name__ == \"__main__\":\n",
    "    capital = Hash_table2()\n",
    "    country = [\"Korea\", \"America\", \"China\", \"England\", \"Türkiye\"]\n",
    "    city = [\"Seoul\", \"Washington\", \"Beijing\", \"London\", \"Ankara\"]\n",
    "    for co, ci in zip(country, city):\n",
    "        capital.set(co, ci)\n",
    "\n",
    "    print(\"해시 테이블의 상태\")\n",
    "    print(\"===============\")\n",
    "    for i, v in enumerate(capital.table):\n",
    "        print(i, v)\n",
    "    print()\n",
    "    print(\"해시 테이블의 검색 결과\")\n",
    "    print(\"====================\")\n",
    "    print(f\"Captial of America = {capital.get('America')}\")\n",
    "    print(f\"Captial of Korea = {capital.get('Korea')}\")\n",
    "    print(f\"Captial of England = {capital.get('England')}\")\n",
    "    print(f\"Captial of China = {capital.get('China')}\")\n",
    "    print(f\"Captial of Japan = {capital.get('Japan')}\")\n",
    "    print(f\"Captial of Türkiye = {capital.get('Türkiye')}\")"
   ]
  },
  {
   "cell_type": "markdown",
   "metadata": {},
   "source": [
    "### 문자열의 가장 먼저 나오는 유일한 문자 찾기\n",
    "\n",
    "주어진 문자열에서 반복되지 않는 문자 중 가장 먼저 나오는 문자의 인덱스를 출력하라. 모든 문자가 중복되면, -1을 출력하라.\n",
    "\n",
    "예시\n",
    "\n",
    "* 입력: leetcode, 출력: 0\n",
    "* 입력: loveleetcode, 출력: 2\n",
    "* 입력: aabb, 출력 -1"
   ]
  },
  {
   "cell_type": "code",
   "execution_count": null,
   "metadata": {},
   "outputs": [],
   "source": [
    "def first_unique_char(s):\n",
    "    n = len(s)\n",
    "    check = [0] * n\n",
    "    for i, ch in enumerate(s):\n",
    "        if check[i]:\n",
    "            continue\n",
    "        check[i] = 1\n",
    "        is_unique = True\n",
    "        for j in range(i+1, n):\n",
    "            if ch == s[j]:\n",
    "                check[j] = 1\n",
    "                is_unique = False\n",
    "                break\n",
    "        if is_unique:\n",
    "            return i\n",
    "    return -1"
   ]
  },
  {
   "cell_type": "code",
   "execution_count": 14,
   "metadata": {},
   "outputs": [],
   "source": [
    " def first_unique_char_dic(s):\n",
    "    count = {}\n",
    "    for ch in s:\n",
    "        if ch not in count:\n",
    "            count[ch] = 1\n",
    "        else:\n",
    "            count[ch] += 1\n",
    "    for i, c in enumerate(s):\n",
    "        if count[c] == 1:\n",
    "            return i\n",
    "    return -1"
   ]
  },
  {
   "cell_type": "code",
   "execution_count": 15,
   "metadata": {},
   "outputs": [],
   "source": [
    "from collections import Counter\n",
    "\n",
    "def first_unique_char_dic2(s):\n",
    "    count = Counter(s)\n",
    "    for i, ch in enumerate(s):\n",
    "        if count[ch] == 1:\n",
    "            return i\n",
    "    return -1"
   ]
  },
  {
   "cell_type": "code",
   "execution_count": null,
   "metadata": {},
   "outputs": [],
   "source": []
  }
 ],
 "metadata": {
  "kernelspec": {
   "display_name": "Python 3",
   "language": "python",
   "name": "python3"
  },
  "language_info": {
   "codemirror_mode": {
    "name": "ipython",
    "version": 3
   },
   "file_extension": ".py",
   "mimetype": "text/x-python",
   "name": "python",
   "nbconvert_exporter": "python",
   "pygments_lexer": "ipython3",
   "version": "3.11.4"
  },
  "orig_nbformat": 4
 },
 "nbformat": 4,
 "nbformat_minor": 2
}
