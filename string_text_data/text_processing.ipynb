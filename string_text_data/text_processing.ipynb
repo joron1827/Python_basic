{
 "cells": [
  {
   "attachments": {},
   "cell_type": "markdown",
   "metadata": {},
   "source": [
    "# 텍스트 분석\n",
    "\n",
    "* Topic analysis : 몇 개의 분류로 나누기, 무엇에 관한 것인가? 예) 온라인 쇼핑몰 리뷰 -> 가격 \n",
    "\n",
    "* Normalize -> Tokenize -> Remove Stop Words -> Stem / Lemmatize"
   ]
  },
  {
   "cell_type": "code",
   "execution_count": null,
   "metadata": {},
   "outputs": [],
   "source": []
  }
 ],
 "metadata": {
  "language_info": {
   "name": "python"
  },
  "orig_nbformat": 4
 },
 "nbformat": 4,
 "nbformat_minor": 2
}
