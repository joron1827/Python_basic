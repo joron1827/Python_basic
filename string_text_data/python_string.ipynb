{
 "cells": [
  {
   "cell_type": "code",
   "execution_count": null,
   "metadata": {},
   "outputs": [],
   "source": []
  },
  {
   "attachments": {},
   "cell_type": "markdown",
   "metadata": {},
   "source": [
    "### 문자열 분리하기\n",
    "* split() 메서드 \n",
    "\n",
    "### 필요 없는 문자열 삭제\n",
    "* strip() 메서드"
   ]
  },
  {
   "cell_type": "code",
   "execution_count": 4,
   "metadata": {},
   "outputs": [
    {
     "name": "stdout",
     "output_type": "stream",
     "text": [
      "['+82', '01-2345-6789']\n"
     ]
    }
   ],
   "source": [
    "coffee_menu_str = \"에스프레소, 아메리카노, 카페라떼, 카푸치노\"\n",
    "coffee_menu_str.split(',')\n",
    "\n",
    "phone_number = \"+82-01-2345-6789\" #국가 번호가 포함된 전화번호\n",
    "split_num = phone_number.split(\"-\", 1) #국가 번호와 나머지 번호 분리\n",
    "print(split_num)"
   ]
  },
  {
   "cell_type": "code",
   "execution_count": 6,
   "metadata": {},
   "outputs": [
    {
     "data": {
      "text/plain": [
       "'bbPythonbbb'"
      ]
     },
     "execution_count": 6,
     "metadata": {},
     "output_type": "execute_result"
    }
   ],
   "source": [
    "#str.strip([chars])\n",
    "\n",
    "\"aaaaaPythonaaa\".strip('a')\n",
    "\n",
    "test_str = \"aaabbPythonbbbaa\"\n",
    "temp1 = test_str.strip('a')\n",
    "temp1"
   ]
  },
  {
   "cell_type": "code",
   "execution_count": 14,
   "metadata": {},
   "outputs": [
    {
     "data": {
      "text/plain": [
       "'aaabbPythonbbbaa'"
      ]
     },
     "execution_count": 14,
     "metadata": {},
     "output_type": "execute_result"
    }
   ],
   "source": [
    "temp1.strip('b') # 문자열 앞뒤의 'b' 제거\n",
    "test_str.strip('b')"
   ]
  },
  {
   "attachments": {},
   "cell_type": "markdown",
   "metadata": {},
   "source": []
  }
 ],
 "metadata": {
  "kernelspec": {
   "display_name": "base",
   "language": "python",
   "name": "python3"
  },
  "language_info": {
   "codemirror_mode": {
    "name": "ipython",
    "version": 3
   },
   "file_extension": ".py",
   "mimetype": "text/x-python",
   "name": "python",
   "nbconvert_exporter": "python",
   "pygments_lexer": "ipython3",
   "version": "3.10.9"
  },
  "orig_nbformat": 4
 },
 "nbformat": 4,
 "nbformat_minor": 2
}
