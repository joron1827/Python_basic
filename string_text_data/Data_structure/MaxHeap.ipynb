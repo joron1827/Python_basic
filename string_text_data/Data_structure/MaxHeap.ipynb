{
 "cells": [
  {
   "cell_type": "code",
   "execution_count": 1,
   "metadata": {},
   "outputs": [],
   "source": [
    "class BinaryTreeNode:\n",
    "    def __init__(self, data):\n",
    "        self.data = data\n",
    "        self.left = None\n",
    "        self.right = None\n",
    "\n",
    "class MaxHeap:\n",
    "    def __init__(self):\n",
    "        self.root = None\n",
    "\n",
    "    def push(self, data):\n",
    "        if self.root is None:\n",
    "            self.root = BinaryTreeNode(data)\n",
    "        else:\n",
    "            self._push_recursive(data, self.root)\n",
    "\n",
    "    def _push_recursive(self, data, current_node):\n",
    "        if data > current_node.data:\n",
    "            # 새로운 데이터가 현재 노드의 값보다 크다면, 값을 교체합니다.\n",
    "            current_node.data, data = data, current_node.data\n",
    "\n",
    "        if current_node.left is None:\n",
    "            # 왼쪽 자식이 없으면 새로운 노드를 추가합니다.\n",
    "            current_node.left = BinaryTreeNode(data)\n",
    "        elif current_node.right is None:\n",
    "            # 오른쪽 자식이 없으면 새로운 노드를 추가합니다.\n",
    "            current_node.right = BinaryTreeNode(data)\n",
    "        else:\n",
    "            # 왼쪽 및 오른쪽 자식이 모두 존재하는 경우,\n",
    "            # 더 작은 하위 트리에 값을 삽입합니다.\n",
    "            if current_node.left.data < current_node.right.data:\n",
    "                self._push_recursive(data, current_node.left)\n",
    "            else:\n",
    "                self._push_recursive(data, current_node.right)\n"
   ]
  },
  {
   "cell_type": "code",
   "execution_count": null,
   "metadata": {},
   "outputs": [],
   "source": [
    "tree = Tree()\n",
    "tree.push(5)\n",
    "tree.push(3)\n",
    "tree.push(7)\n",
    "tree.push(2)\n",
    "tree.push(4)\n",
    "tree.push(6)\n",
    "tree.push(8)\n",
    "\n"
   ]
  }
 ],
 "metadata": {
  "kernelspec": {
   "display_name": "base",
   "language": "python",
   "name": "python3"
  },
  "language_info": {
   "codemirror_mode": {
    "name": "ipython",
    "version": 3
   },
   "file_extension": ".py",
   "mimetype": "text/x-python",
   "name": "python",
   "nbconvert_exporter": "python",
   "pygments_lexer": "ipython3",
   "version": "3.10.9"
  },
  "orig_nbformat": 4
 },
 "nbformat": 4,
 "nbformat_minor": 2
}
