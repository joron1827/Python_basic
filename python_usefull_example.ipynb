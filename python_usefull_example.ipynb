{
 "cells": [
  {
   "cell_type": "markdown",
   "metadata": {},
   "source": [
    "### 딕셔너리 관련\n",
    "\n",
    "* try except 으로 존재하지 않는 키 처리 가능\n",
    "* collections\n",
    "    * defaultdict : 딕셔너리에 데이터 타입을 지정할 수 있음,\n",
    "    * Counter : 아이템 갯수 계산\n",
    "    * most_common : 가장 빈도 높은 요소 추출\n",
    "\n",
    "### answk"
   ]
  },
  {
   "cell_type": "code",
   "execution_count": 1,
   "metadata": {},
   "outputs": [
    {
     "data": {
      "text/plain": [
       "[('A', 5)]"
      ]
     },
     "execution_count": 1,
     "metadata": {},
     "output_type": "execute_result"
    }
   ],
   "source": [
    "from collections import defaultdict, Counter\n",
    "\n",
    "a = defaultdict(int)\n",
    "\n",
    "a['A'] = 5\n",
    "a['B'] += 1\n",
    "\n",
    "b = Counter(a)\n",
    "b.most_common(1)\n"
   ]
  },
  {
   "cell_type": "code",
   "execution_count": 14,
   "metadata": {},
   "outputs": [
    {
     "name": "stdout",
     "output_type": "stream",
     "text": [
      "['let1 art can', 'let2 own kit dig', 'let3 art zero']\n",
      "['let1 art can', 'let3 art zero', 'let2 own kit dig']\n"
     ]
    }
   ],
   "source": [
    "## 파이썬 문자열 관련\n",
    "\n",
    "logs = [\"dig1 8 1 5 1\", \"let1 art can\",\"dig2 3 6\",\"let2 own kit dig\",\"let3 art zero\"]\n",
    "\n",
    "digits, letters = [],[]\n",
    "for log in logs:\n",
    "    if log.split()[1].isdigit():\n",
    "        digits.append(log)\n",
    "    else:\n",
    "        letters.append(log)\n",
    "print(letters)\n",
    "letters.sort(key=lambda x: (x.split()[1:], x.split()[0]))\n",
    "print(letters)"
   ]
  },
  {
   "cell_type": "code",
   "execution_count": 20,
   "metadata": {},
   "outputs": [
    {
     "data": {
      "text/plain": [
       "[(0, 1), (1, 2), (3, 0), (5, 1), (5, 2)]"
      ]
     },
     "execution_count": 20,
     "metadata": {},
     "output_type": "execute_result"
    }
   ],
   "source": [
    "a = [(1, 2), (5, 1), (0, 1), (5, 2), (3, 0)]\n",
    "a.sort(key=lambda x: (x[0],x[1]))\n",
    "a"
   ]
  },
  {
   "cell_type": "markdown",
   "metadata": {},
   "source": [
    "## 높이를 입력받아 비 온 후 얼마나 많은 물이 쌓일 수 있는지 계산하여라\n",
    "\n",
    "* 입력 : [0,1,0,2,1,0,1,3,2,1,2,1]\n",
    "* 출력 : 6\n"
   ]
  },
  {
   "cell_type": "code",
   "execution_count": 4,
   "metadata": {},
   "outputs": [
    {
     "name": "stdout",
     "output_type": "stream",
     "text": [
      "0 1 0\n",
      "1 1 0\n",
      "1 1 0\n",
      "2 1 1\n",
      "2 2 1\n",
      "2 2 1\n",
      "2 2 2\n",
      "2 2 4\n",
      "3 2 5\n",
      "3 2 5\n",
      "3 2 6\n"
     ]
    }
   ],
   "source": [
    "input = [0,1,0,2,1,0,1,3,2,1,2,1]\n",
    "\n",
    "def trap(height):\n",
    "    if not height:\n",
    "        return 0\n",
    "    \n",
    "    volume = 0\n",
    "\n",
    "    left,right = 0 , len(height)-1\n",
    "    left_max, right_max = height[left], height[right]\n",
    "\n",
    "    while left < right:\n",
    "        left_max, right_max = max(height[left], left_max), max(height[right], right_max)\n",
    "        print(left_max,right_max,volume)\n",
    "        if left_max <= right_max:\n",
    "            volume += left_max - height[left]\n",
    "            left += 1\n",
    "        else:\n",
    "            volume += right_max - height[right]\n",
    "            right -= 1\n",
    "\n",
    "trap(input)"
   ]
  },
  {
   "cell_type": "code",
   "execution_count": 4,
   "metadata": {},
   "outputs": [
    {
     "ename": "TypeError",
     "evalue": "globals must be a real dict; try eval(expr, {}, mapping)",
     "output_type": "error",
     "traceback": [
      "\u001b[1;31m---------------------------------------------------------------------------\u001b[0m",
      "\u001b[1;31mTypeError\u001b[0m                                 Traceback (most recent call last)",
      "\u001b[1;32mg:\\내 드라이브\\4학년 2학기\\파이썬 기초\\Python_basic\\python_usefull_example.ipynb Cell 7\u001b[0m line \u001b[0;36m1\n\u001b[1;32m----> <a href='vscode-notebook-cell:/g%3A/%EB%82%B4%20%EB%93%9C%EB%9D%BC%EC%9D%B4%EB%B8%8C/4%ED%95%99%EB%85%84%202%ED%95%99%EA%B8%B0/%ED%8C%8C%EC%9D%B4%EC%8D%AC%20%EA%B8%B0%EC%B4%88/Python_basic/python_usefull_example.ipynb#W6sZmlsZQ%3D%3D?line=0'>1</a>\u001b[0m \u001b[39mprint\u001b[39m(\u001b[39meval\u001b[39;49m(\u001b[39m\"\u001b[39;49m\u001b[39m3\u001b[39;49m\u001b[39m\"\u001b[39;49m,\u001b[39m\"\u001b[39;49m\u001b[39m+\u001b[39;49m\u001b[39m\"\u001b[39;49m,\u001b[39m\"\u001b[39;49m\u001b[39m3\u001b[39;49m\u001b[39m\"\u001b[39;49m))\n",
      "\u001b[1;31mTypeError\u001b[0m: globals must be a real dict; try eval(expr, {}, mapping)"
     ]
    }
   ],
   "source": []
  },
  {
   "cell_type": "code",
   "execution_count": null,
   "metadata": {},
   "outputs": [],
   "source": []
  }
 ],
 "metadata": {
  "kernelspec": {
   "display_name": "base",
   "language": "python",
   "name": "python3"
  },
  "language_info": {
   "codemirror_mode": {
    "name": "ipython",
    "version": 3
   },
   "file_extension": ".py",
   "mimetype": "text/x-python",
   "name": "python",
   "nbconvert_exporter": "python",
   "pygments_lexer": "ipython3",
   "version": "3.10.9"
  },
  "orig_nbformat": 4
 },
 "nbformat": 4,
 "nbformat_minor": 2
}
